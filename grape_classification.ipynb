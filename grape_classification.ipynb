{
  "cells": [
    {
      "cell_type": "code",
      "execution_count": null,
      "metadata": {
        "id": "A8iPIwKJyCH7"
      },
      "outputs": [],
      "source": [
        "import tensorflow as tf\n",
        "import numpy as np\n",
        "import os\n",
        "import pandas as pd\n",
        "import matplotlib.pyplot as plt\n",
        "import seaborn as sns\n",
        "\n",
        "import tensorflow as tf\n",
        "from tensorflow import keras\n",
        "from keras.preprocessing import image_dataset\n",
        "from tensorflow.keras.models import Model\n",
        "from tensorflow.keras.applications import inception_v3\n",
        "from tensorflow.keras.utils import to_categorical\n",
        "from keras.preprocessing.image import ImageDataGenerator\n",
        "\n",
        "\n",
        "from sklearn.metrics import accuracy_score\n",
        "from sklearn.tree import DecisionTreeClassifier\n",
        "from sklearn.model_selection import train_test_split, GridSearchCV\n",
        "from sklearn.decomposition import PCA\n",
        "from sklearn.naive_bayes import GaussianNB, BernoulliNB, ComplementNB\n",
        "from sklearn.preprocessing import MinMaxScaler, StandardScaler\n",
        "from sklearn.metrics import confusion_matrix\n",
        "\n",
        "from PIL import Image\n",
        "from PIL import UnidentifiedImageError"
      ]
    },
    {
      "cell_type": "code",
      "execution_count": null,
      "metadata": {
        "id": "JIv9CzYQxX-7"
      },
      "outputs": [],
      "source": [
        "ak = os.listdir('/content/drive/MyDrive/Grapevine_Leaves_Image_Dataset/Ak')\n",
        "ala_idris = os.listdir('/content/drive/MyDrive/Grapevine_Leaves_Image_Dataset/Ala_Idris')\n",
        "buzgulo = os.listdir('/content/drive/MyDrive/Grapevine_Leaves_Image_Dataset/Buzgulu')\n",
        "dimnit = os.listdir('/content/drive/MyDrive/Grapevine_Leaves_Image_Dataset/Dimnit')\n",
        "nazli = os.listdir('/content/drive/MyDrive/Grapevine_Leaves_Image_Dataset/Nazli')"
      ]
    },
    {
      "cell_type": "code",
      "execution_count": null,
      "metadata": {
        "colab": {
          "base_uri": "https://localhost:8080/"
        },
        "id": "5XGOQhh8Jw-i",
        "outputId": "131b90ad-5625-4dd4-e741-36fd2227e98a"
      },
      "outputs": [
        {
          "output_type": "stream",
          "name": "stdout",
          "text": [
            "Resposta questão 2a:\n",
            "Resolução das folhas tipo \"Ak\": (511, 511) pixels\n",
            "Resolução das folhas tipo \"Ala Idris\": (511, 511) pixels\n",
            "Resolução das folhas tipo \"Buzgulu\":(511, 511) pixels\n",
            "Resolução das folhas tipo \"Dimnit\":(511, 511) pixels\n",
            "Resolução das folhas tipo \"Nazli\":(511, 511) pixels\n"
          ]
        }
      ],
      "source": [
        "# Qual é a resolução das imagens deste dataset?\n",
        "img1 = Image.open(\"/content/drive/MyDrive/Grapevine_Leaves_Image_Dataset/Ak/Ak (1).png\")\n",
        "img2 = Image.open(\"/content/drive/MyDrive/Grapevine_Leaves_Image_Dataset/Ala_Idris/Ala_Idris (1).png\")\n",
        "img3 = Image.open(\"/content/drive/MyDrive/Grapevine_Leaves_Image_Dataset/Buzgulu/Buzgulu (1).png\")\n",
        "img4 = Image.open(\"/content/drive/MyDrive/Grapevine_Leaves_Image_Dataset/Dimnit/Dimnit (1).png\")\n",
        "img5 = Image.open(\"/content/drive/MyDrive/Grapevine_Leaves_Image_Dataset/Nazli/Nazli (1).png\")\n",
        "\n",
        "print('Resposta questão 2a:')\n",
        "print(f'Resolução das folhas tipo \"Ak\": {img1.size} pixels\\nResolução das folhas tipo \"Ala Idris\": {img2.size} pixels\\nResolução das folhas tipo \"Buzgulu\":{img3.size} pixels\\nResolução das folhas tipo \"Dimnit\":{img4.size} pixels\\nResolução das folhas tipo \"Nazli\":{img5.size} pixels')"
      ]
    },
    {
      "cell_type": "code",
      "execution_count": null,
      "metadata": {
        "id": "QdM44QaKy19V"
      },
      "outputs": [],
      "source": [
        "imgw, imgh = 224,224 #tamanho final da imagem\n",
        "X=[]\n",
        "X_ml =[]\n",
        "y=[]"
      ]
    },
    {
      "cell_type": "code",
      "execution_count": null,
      "metadata": {
        "id": "7WFqbhT9yjj0"
      },
      "outputs": [],
      "source": [
        "for i in ak:\n",
        "  try:\n",
        "    img = Image.open(\"/content/drive/MyDrive/Grapevine_Leaves_Image_Dataset/Ak/\" + i).convert('RGB')\n",
        "    img = img.resize((imgw,imgh)) #comando para redimensionar a imagem\n",
        "    X.append(np.asarray(img))\n",
        "    y.append(0)\n",
        "  except UnidentifiedImageError:\n",
        "    pass"
      ]
    },
    {
      "cell_type": "code",
      "execution_count": null,
      "metadata": {
        "id": "g2Pmz9GjyjhP"
      },
      "outputs": [],
      "source": [
        "for i in ala_idris:\n",
        "  try:\n",
        "    img = Image.open(\"/content/drive/MyDrive/Grapevine_Leaves_Image_Dataset/Ala_Idris/\" + i).convert('RGB')\n",
        "    img = img.resize((imgw,imgh)) #comando para redimensionar a imagem\n",
        "    X.append(np.asarray(img))\n",
        "    y.append(1)\n",
        "  except UnidentifiedImageError:\n",
        "    pass"
      ]
    },
    {
      "cell_type": "code",
      "execution_count": null,
      "metadata": {
        "id": "pm7M3j0pyjez"
      },
      "outputs": [],
      "source": [
        "for i in buzgulo:\n",
        "  try:\n",
        "    img = Image.open(\"/content/drive/MyDrive/Grapevine_Leaves_Image_Dataset/Buzgulu/\" + i).convert('RGB')\n",
        "    img = img.resize((imgw,imgh)) #comando para redimensionar a imagem\n",
        "    X.append(np.asarray(img))\n",
        "    y.append(2)\n",
        "  except UnidentifiedImageError:\n",
        "    pass"
      ]
    },
    {
      "cell_type": "code",
      "execution_count": null,
      "metadata": {
        "id": "j8vltozuyjbx"
      },
      "outputs": [],
      "source": [
        "for i in dimnit:\n",
        "  try:\n",
        "    img = Image.open(\"/content/drive/MyDrive/Grapevine_Leaves_Image_Dataset/Dimnit/\" + i).convert('RGB')\n",
        "    img = img.resize((imgw,imgh)) #comando para redimensionar a imagem\n",
        "    X.append(np.asarray(img))\n",
        "    y.append(3)\n",
        "  except UnidentifiedImageError:\n",
        "    pass"
      ]
    },
    {
      "cell_type": "code",
      "execution_count": null,
      "metadata": {
        "id": "xwVtWUX_yjU-"
      },
      "outputs": [],
      "source": [
        "for i in nazli:\n",
        "  try:\n",
        "    img = Image.open(\"/content/drive/MyDrive/Grapevine_Leaves_Image_Dataset/Nazli/\" + i).convert('RGB')\n",
        "    img = img.resize((imgw,imgh)) #comando para redimensionar a imagem\n",
        "    X.append(np.asarray(img))\n",
        "    y.append(4)\n",
        "  except UnidentifiedImageError:\n",
        "    pass"
      ]
    },
    {
      "cell_type": "code",
      "execution_count": null,
      "metadata": {
        "colab": {
          "base_uri": "https://localhost:8080/"
        },
        "id": "9TlXw3Ldz9r5",
        "outputId": "94cb3f57-6db2-4e09-a48a-a54cb3dbd410"
      },
      "outputs": [
        {
          "output_type": "stream",
          "name": "stdout",
          "text": [
            "(500, 224, 224, 3) (500,)\n",
            "O tamanho das imagens transformado é: 224 pixels de largura e 224 pixels de altura\n"
          ]
        }
      ],
      "source": [
        "X = np.asarray(X)\n",
        "y = np.asarray(y)\n",
        "print(X.shape, y.shape)\n",
        "print(f'O tamanho das imagens transformado é: {X.shape[1]} pixels de largura e {X.shape[2]} pixels de altura')"
      ]
    },
    {
      "cell_type": "code",
      "execution_count": null,
      "metadata": {
        "colab": {
          "base_uri": "https://localhost:8080/"
        },
        "id": "jma7IG9uMGH_",
        "outputId": "8d17ae2a-325e-4264-81ea-c78353503180"
      },
      "outputs": [
        {
          "output_type": "stream",
          "name": "stdout",
          "text": [
            "O número de amostras presentes nas folhas \"Ak\" é: 100\n",
            "O número de amostras presentes nas folhas \"Ala Idris\" é: 100\n",
            "O número de amostras presentes nas folhas \"Buzgulu\" é: 100\n",
            "O número de amostras presentes nas folhas \"Dimnit\" é: 100\n",
            "O número de amostras presentes nas folhas \"Nazli\" é: 100\n"
          ]
        }
      ],
      "source": [
        "# Quantas imagens por classe?\n",
        "a = []\n",
        "y = np.array(y)\n",
        "__ , counts = np.unique(y, return_counts=True)\n",
        "print(f'O número de amostras presentes nas folhas \"Ak\" é: {counts[0]}')\n",
        "print(f'O número de amostras presentes nas folhas \"Ala Idris\" é: {counts[1]}')\n",
        "print(f'O número de amostras presentes nas folhas \"Buzgulu\" é: {counts[2]}')\n",
        "print(f'O número de amostras presentes nas folhas \"Dimnit\" é: {counts[3]}')\n",
        "print(f'O número de amostras presentes nas folhas \"Nazli\" é: {counts[4]}')"
      ]
    },
    {
      "cell_type": "code",
      "execution_count": null,
      "metadata": {
        "id": "OXCMtEj_0YhI"
      },
      "outputs": [],
      "source": [
        "#normalização (aplicação de um filtro rgb)\n",
        "x = X.astype('float32')\n",
        "x /= 255"
      ]
    },
    {
      "cell_type": "code",
      "execution_count": null,
      "metadata": {
        "id": "fwUimS3r0sj2"
      },
      "outputs": [],
      "source": [
        "Xtrain, Xtest, ytrain, ytest = train_test_split(x,y, test_size=0.2, random_state = 10)"
      ]
    },
    {
      "cell_type": "code",
      "source": [
        "Ytrain = to_categorical(ytrain)\n",
        "Ytest = to_categorical(ytest)"
      ],
      "metadata": {
        "id": "gLdu1P61sxLu"
      },
      "execution_count": null,
      "outputs": []
    },
    {
      "cell_type": "code",
      "source": [
        "print('\\tTraining set shape: ', Xtrain.shape)\n",
        "print('\\tTesting set shape: ', Xtest.shape)\n",
        "print('\\tTraining label shape: ', ytrain.shape)\n",
        "print('\\tTesting label shape: ', ytest.shape)"
      ],
      "metadata": {
        "colab": {
          "base_uri": "https://localhost:8080/"
        },
        "id": "KVr9myQOqNlV",
        "outputId": "a8da2693-f8f6-4cab-857c-3792460683f8"
      },
      "execution_count": null,
      "outputs": [
        {
          "output_type": "stream",
          "name": "stdout",
          "text": [
            "\tTraining set shape:  (400, 224, 224, 3)\n",
            "\tTesting set shape:  (100, 224, 224, 3)\n",
            "\tTraining label shape:  (400,)\n",
            "\tTesting label shape:  (100,)\n"
          ]
        }
      ]
    },
    {
      "cell_type": "markdown",
      "source": [
        "# Questão 1) Escolha uma rede pré-treinada em imagens para fazer transferência de aprendizado por meio de fine-tuning (2,5 pontos):"
      ],
      "metadata": {
        "id": "wKZ-NEM2Wool"
      }
    },
    {
      "cell_type": "markdown",
      "source": [
        "## a) Determine quais camadas serão acrescentadas, o tamanho do batch, a quantidade de épocas e a forma de treinamento (fit ou train_on_batch) (2 pontos)."
      ],
      "metadata": {
        "id": "RX8aJsudW1b7"
      }
    },
    {
      "cell_type": "code",
      "source": [
        "print('Loading the InceptionV3 model ...')\n",
        "# Rede Inception V3\n",
        "model = inception_v3.InceptionV3(include_top=False, weights='imagenet', input_shape=(224, 224, 3), classes=1000)\n",
        "model = Model(inputs=model.input, outputs=model.get_layer(index=-2).output) # O modelo para na penultima camada, selecionando apenas as caracteristicas e não as probabilidades\n",
        "\n",
        "# Novas camadas adicionadas através do fine-tuning\n",
        "new_top = keras.Sequential()\n",
        "new_top.add(keras.layers.Flatten())\n",
        "new_top.add(keras.layers.Dense(20, activation = 'relu'))\n",
        "new_top.add(keras.layers.Dense(10, activation = 'relu'))\n",
        "new_top.add(keras.layers.Dense(5, activation = 'softmax'))\n",
        "\n",
        "model = Model(inputs=model.input, outputs=new_top(model.output))\n",
        "\n",
        "model.compile(optimizer= keras.optimizers.Adam(0.0001), loss='categorical_crossentropy' ,metrics=[keras.metrics.CategoricalAccuracy(name = 'accuracy')])\n",
        "history = model.fit(Xtrain, Ytrain, batch_size=10, epochs=15)"
      ],
      "metadata": {
        "colab": {
          "base_uri": "https://localhost:8080/"
        },
        "id": "6yIQ9wVh68By",
        "outputId": "cf8dee3e-9337-4494-dbfc-47b906895aee"
      },
      "execution_count": null,
      "outputs": [
        {
          "output_type": "stream",
          "name": "stdout",
          "text": [
            "Loading the InceptionV3 model ...\n",
            "Epoch 1/15\n",
            "40/40 [==============================] - 16s 70ms/step - loss: 1.4768 - accuracy: 0.2700\n",
            "Epoch 2/15\n",
            "40/40 [==============================] - 3s 69ms/step - loss: 1.0203 - accuracy: 0.5425\n",
            "Epoch 3/15\n",
            "40/40 [==============================] - 3s 70ms/step - loss: 0.5532 - accuracy: 0.7725\n",
            "Epoch 4/15\n",
            "40/40 [==============================] - 3s 70ms/step - loss: 0.3277 - accuracy: 0.9300\n",
            "Epoch 5/15\n",
            "40/40 [==============================] - 3s 69ms/step - loss: 0.1832 - accuracy: 0.9675\n",
            "Epoch 6/15\n",
            "40/40 [==============================] - 3s 69ms/step - loss: 0.1053 - accuracy: 0.9850\n",
            "Epoch 7/15\n",
            "40/40 [==============================] - 3s 70ms/step - loss: 0.1268 - accuracy: 0.9650\n",
            "Epoch 8/15\n",
            "40/40 [==============================] - 3s 70ms/step - loss: 0.0904 - accuracy: 0.9850\n",
            "Epoch 9/15\n",
            "40/40 [==============================] - 3s 69ms/step - loss: 0.0605 - accuracy: 0.9825\n",
            "Epoch 10/15\n",
            "40/40 [==============================] - 3s 70ms/step - loss: 0.0278 - accuracy: 1.0000\n",
            "Epoch 11/15\n",
            "40/40 [==============================] - 3s 69ms/step - loss: 0.0402 - accuracy: 0.9875\n",
            "Epoch 12/15\n",
            "40/40 [==============================] - 3s 70ms/step - loss: 0.0456 - accuracy: 0.9900\n",
            "Epoch 13/15\n",
            "40/40 [==============================] - 3s 70ms/step - loss: 0.0308 - accuracy: 0.9975\n",
            "Epoch 14/15\n",
            "40/40 [==============================] - 3s 69ms/step - loss: 0.0250 - accuracy: 0.9975\n",
            "Epoch 15/15\n",
            "40/40 [==============================] - 3s 70ms/step - loss: 0.0402 - accuracy: 0.9875\n"
          ]
        }
      ]
    },
    {
      "cell_type": "code",
      "execution_count": null,
      "metadata": {
        "colab": {
          "base_uri": "https://localhost:8080/"
        },
        "id": "-9pq4nmM2I2i",
        "outputId": "a04dba71-3daf-4b8e-f7cc-fc1f361692d2"
      },
      "outputs": [
        {
          "output_type": "stream",
          "name": "stdout",
          "text": [
            "4/4 [==============================] - 3s 125ms/step - loss: 0.5530 - accuracy: 0.8600\n",
            "['loss', 'accuracy']\n",
            "Loss:  0.553\n",
            "Accuracy for neural network:  0.86\n"
          ]
        }
      ],
      "source": [
        "scoreMLP = model.evaluate(Xtest, Ytest)\n",
        "print(model.metrics_names)\n",
        "print(\"Loss: \", round(scoreMLP[0],3))\n",
        "print(\"Accuracy for neural network: \", round(scoreMLP[1],3))"
      ]
    },
    {
      "cell_type": "code",
      "source": [
        "print('Loading the InceptionV3 model with feature extraction ...')\n",
        "model_1 = inception_v3.InceptionV3(include_top=False, weights='imagenet', input_shape=(224, 224, 3), classes=1000)\n",
        "model_1 = Model(inputs=model_1.input, outputs=model_1.get_layer(index=-2).output) # O modelo para na penultima camada, selecionando apenas as caracteristicas e não as probabilidades\n",
        "model_1.summary()\n",
        "\n",
        "prediction = np.array(model_1.predict(X))\n",
        "x_pred = np.reshape(prediction, (prediction.shape[0], np.prod([prediction.shape[1],prediction.shape[2],prediction.shape[3]])))\n",
        "\n",
        "print('\\tFeatures in x prediction: ', x_pred.shape)"
      ],
      "metadata": {
        "id": "wVggWgsM8CgK",
        "colab": {
          "base_uri": "https://localhost:8080/"
        },
        "outputId": "386bed82-ab4f-4789-82a5-4147ed4574d8"
      },
      "execution_count": null,
      "outputs": [
        {
          "output_type": "stream",
          "name": "stdout",
          "text": [
            "Loading the InceptionV3 model with feature extraction ...\n",
            "Model: \"model_2\"\n",
            "__________________________________________________________________________________________________\n",
            " Layer (type)                   Output Shape         Param #     Connected to                     \n",
            "==================================================================================================\n",
            " input_2 (InputLayer)           [(None, 224, 224, 3  0           []                               \n",
            "                                )]                                                                \n",
            "                                                                                                  \n",
            " conv2d_94 (Conv2D)             (None, 111, 111, 32  864         ['input_2[0][0]']                \n",
            "                                )                                                                 \n",
            "                                                                                                  \n",
            " batch_normalization_94 (BatchN  (None, 111, 111, 32  96         ['conv2d_94[0][0]']              \n",
            " ormalization)                  )                                                                 \n",
            "                                                                                                  \n",
            " activation_94 (Activation)     (None, 111, 111, 32  0           ['batch_normalization_94[0][0]'] \n",
            "                                )                                                                 \n",
            "                                                                                                  \n",
            " conv2d_95 (Conv2D)             (None, 109, 109, 32  9216        ['activation_94[0][0]']          \n",
            "                                )                                                                 \n",
            "                                                                                                  \n",
            " batch_normalization_95 (BatchN  (None, 109, 109, 32  96         ['conv2d_95[0][0]']              \n",
            " ormalization)                  )                                                                 \n",
            "                                                                                                  \n",
            " activation_95 (Activation)     (None, 109, 109, 32  0           ['batch_normalization_95[0][0]'] \n",
            "                                )                                                                 \n",
            "                                                                                                  \n",
            " conv2d_96 (Conv2D)             (None, 109, 109, 64  18432       ['activation_95[0][0]']          \n",
            "                                )                                                                 \n",
            "                                                                                                  \n",
            " batch_normalization_96 (BatchN  (None, 109, 109, 64  192        ['conv2d_96[0][0]']              \n",
            " ormalization)                  )                                                                 \n",
            "                                                                                                  \n",
            " activation_96 (Activation)     (None, 109, 109, 64  0           ['batch_normalization_96[0][0]'] \n",
            "                                )                                                                 \n",
            "                                                                                                  \n",
            " max_pooling2d_4 (MaxPooling2D)  (None, 54, 54, 64)  0           ['activation_96[0][0]']          \n",
            "                                                                                                  \n",
            " conv2d_97 (Conv2D)             (None, 54, 54, 80)   5120        ['max_pooling2d_4[0][0]']        \n",
            "                                                                                                  \n",
            " batch_normalization_97 (BatchN  (None, 54, 54, 80)  240         ['conv2d_97[0][0]']              \n",
            " ormalization)                                                                                    \n",
            "                                                                                                  \n",
            " activation_97 (Activation)     (None, 54, 54, 80)   0           ['batch_normalization_97[0][0]'] \n",
            "                                                                                                  \n",
            " conv2d_98 (Conv2D)             (None, 52, 52, 192)  138240      ['activation_97[0][0]']          \n",
            "                                                                                                  \n",
            " batch_normalization_98 (BatchN  (None, 52, 52, 192)  576        ['conv2d_98[0][0]']              \n",
            " ormalization)                                                                                    \n",
            "                                                                                                  \n",
            " activation_98 (Activation)     (None, 52, 52, 192)  0           ['batch_normalization_98[0][0]'] \n",
            "                                                                                                  \n",
            " max_pooling2d_5 (MaxPooling2D)  (None, 25, 25, 192)  0          ['activation_98[0][0]']          \n",
            "                                                                                                  \n",
            " conv2d_102 (Conv2D)            (None, 25, 25, 64)   12288       ['max_pooling2d_5[0][0]']        \n",
            "                                                                                                  \n",
            " batch_normalization_102 (Batch  (None, 25, 25, 64)  192         ['conv2d_102[0][0]']             \n",
            " Normalization)                                                                                   \n",
            "                                                                                                  \n",
            " activation_102 (Activation)    (None, 25, 25, 64)   0           ['batch_normalization_102[0][0]']\n",
            "                                                                                                  \n",
            " conv2d_100 (Conv2D)            (None, 25, 25, 48)   9216        ['max_pooling2d_5[0][0]']        \n",
            "                                                                                                  \n",
            " conv2d_103 (Conv2D)            (None, 25, 25, 96)   55296       ['activation_102[0][0]']         \n",
            "                                                                                                  \n",
            " batch_normalization_100 (Batch  (None, 25, 25, 48)  144         ['conv2d_100[0][0]']             \n",
            " Normalization)                                                                                   \n",
            "                                                                                                  \n",
            " batch_normalization_103 (Batch  (None, 25, 25, 96)  288         ['conv2d_103[0][0]']             \n",
            " Normalization)                                                                                   \n",
            "                                                                                                  \n",
            " activation_100 (Activation)    (None, 25, 25, 48)   0           ['batch_normalization_100[0][0]']\n",
            "                                                                                                  \n",
            " activation_103 (Activation)    (None, 25, 25, 96)   0           ['batch_normalization_103[0][0]']\n",
            "                                                                                                  \n",
            " average_pooling2d_9 (AveragePo  (None, 25, 25, 192)  0          ['max_pooling2d_5[0][0]']        \n",
            " oling2D)                                                                                         \n",
            "                                                                                                  \n",
            " conv2d_99 (Conv2D)             (None, 25, 25, 64)   12288       ['max_pooling2d_5[0][0]']        \n",
            "                                                                                                  \n",
            " conv2d_101 (Conv2D)            (None, 25, 25, 64)   76800       ['activation_100[0][0]']         \n",
            "                                                                                                  \n",
            " conv2d_104 (Conv2D)            (None, 25, 25, 96)   82944       ['activation_103[0][0]']         \n",
            "                                                                                                  \n",
            " conv2d_105 (Conv2D)            (None, 25, 25, 32)   6144        ['average_pooling2d_9[0][0]']    \n",
            "                                                                                                  \n",
            " batch_normalization_99 (BatchN  (None, 25, 25, 64)  192         ['conv2d_99[0][0]']              \n",
            " ormalization)                                                                                    \n",
            "                                                                                                  \n",
            " batch_normalization_101 (Batch  (None, 25, 25, 64)  192         ['conv2d_101[0][0]']             \n",
            " Normalization)                                                                                   \n",
            "                                                                                                  \n",
            " batch_normalization_104 (Batch  (None, 25, 25, 96)  288         ['conv2d_104[0][0]']             \n",
            " Normalization)                                                                                   \n",
            "                                                                                                  \n",
            " batch_normalization_105 (Batch  (None, 25, 25, 32)  96          ['conv2d_105[0][0]']             \n",
            " Normalization)                                                                                   \n",
            "                                                                                                  \n",
            " activation_99 (Activation)     (None, 25, 25, 64)   0           ['batch_normalization_99[0][0]'] \n",
            "                                                                                                  \n",
            " activation_101 (Activation)    (None, 25, 25, 64)   0           ['batch_normalization_101[0][0]']\n",
            "                                                                                                  \n",
            " activation_104 (Activation)    (None, 25, 25, 96)   0           ['batch_normalization_104[0][0]']\n",
            "                                                                                                  \n",
            " activation_105 (Activation)    (None, 25, 25, 32)   0           ['batch_normalization_105[0][0]']\n",
            "                                                                                                  \n",
            " mixed0 (Concatenate)           (None, 25, 25, 256)  0           ['activation_99[0][0]',          \n",
            "                                                                  'activation_101[0][0]',         \n",
            "                                                                  'activation_104[0][0]',         \n",
            "                                                                  'activation_105[0][0]']         \n",
            "                                                                                                  \n",
            " conv2d_109 (Conv2D)            (None, 25, 25, 64)   16384       ['mixed0[0][0]']                 \n",
            "                                                                                                  \n",
            " batch_normalization_109 (Batch  (None, 25, 25, 64)  192         ['conv2d_109[0][0]']             \n",
            " Normalization)                                                                                   \n",
            "                                                                                                  \n",
            " activation_109 (Activation)    (None, 25, 25, 64)   0           ['batch_normalization_109[0][0]']\n",
            "                                                                                                  \n",
            " conv2d_107 (Conv2D)            (None, 25, 25, 48)   12288       ['mixed0[0][0]']                 \n",
            "                                                                                                  \n",
            " conv2d_110 (Conv2D)            (None, 25, 25, 96)   55296       ['activation_109[0][0]']         \n",
            "                                                                                                  \n",
            " batch_normalization_107 (Batch  (None, 25, 25, 48)  144         ['conv2d_107[0][0]']             \n",
            " Normalization)                                                                                   \n",
            "                                                                                                  \n",
            " batch_normalization_110 (Batch  (None, 25, 25, 96)  288         ['conv2d_110[0][0]']             \n",
            " Normalization)                                                                                   \n",
            "                                                                                                  \n",
            " activation_107 (Activation)    (None, 25, 25, 48)   0           ['batch_normalization_107[0][0]']\n",
            "                                                                                                  \n",
            " activation_110 (Activation)    (None, 25, 25, 96)   0           ['batch_normalization_110[0][0]']\n",
            "                                                                                                  \n",
            " average_pooling2d_10 (AverageP  (None, 25, 25, 256)  0          ['mixed0[0][0]']                 \n",
            " ooling2D)                                                                                        \n",
            "                                                                                                  \n",
            " conv2d_106 (Conv2D)            (None, 25, 25, 64)   16384       ['mixed0[0][0]']                 \n",
            "                                                                                                  \n",
            " conv2d_108 (Conv2D)            (None, 25, 25, 64)   76800       ['activation_107[0][0]']         \n",
            "                                                                                                  \n",
            " conv2d_111 (Conv2D)            (None, 25, 25, 96)   82944       ['activation_110[0][0]']         \n",
            "                                                                                                  \n",
            " conv2d_112 (Conv2D)            (None, 25, 25, 64)   16384       ['average_pooling2d_10[0][0]']   \n",
            "                                                                                                  \n",
            " batch_normalization_106 (Batch  (None, 25, 25, 64)  192         ['conv2d_106[0][0]']             \n",
            " Normalization)                                                                                   \n",
            "                                                                                                  \n",
            " batch_normalization_108 (Batch  (None, 25, 25, 64)  192         ['conv2d_108[0][0]']             \n",
            " Normalization)                                                                                   \n",
            "                                                                                                  \n",
            " batch_normalization_111 (Batch  (None, 25, 25, 96)  288         ['conv2d_111[0][0]']             \n",
            " Normalization)                                                                                   \n",
            "                                                                                                  \n",
            " batch_normalization_112 (Batch  (None, 25, 25, 64)  192         ['conv2d_112[0][0]']             \n",
            " Normalization)                                                                                   \n",
            "                                                                                                  \n",
            " activation_106 (Activation)    (None, 25, 25, 64)   0           ['batch_normalization_106[0][0]']\n",
            "                                                                                                  \n",
            " activation_108 (Activation)    (None, 25, 25, 64)   0           ['batch_normalization_108[0][0]']\n",
            "                                                                                                  \n",
            " activation_111 (Activation)    (None, 25, 25, 96)   0           ['batch_normalization_111[0][0]']\n",
            "                                                                                                  \n",
            " activation_112 (Activation)    (None, 25, 25, 64)   0           ['batch_normalization_112[0][0]']\n",
            "                                                                                                  \n",
            " mixed1 (Concatenate)           (None, 25, 25, 288)  0           ['activation_106[0][0]',         \n",
            "                                                                  'activation_108[0][0]',         \n",
            "                                                                  'activation_111[0][0]',         \n",
            "                                                                  'activation_112[0][0]']         \n",
            "                                                                                                  \n",
            " conv2d_116 (Conv2D)            (None, 25, 25, 64)   18432       ['mixed1[0][0]']                 \n",
            "                                                                                                  \n",
            " batch_normalization_116 (Batch  (None, 25, 25, 64)  192         ['conv2d_116[0][0]']             \n",
            " Normalization)                                                                                   \n",
            "                                                                                                  \n",
            " activation_116 (Activation)    (None, 25, 25, 64)   0           ['batch_normalization_116[0][0]']\n",
            "                                                                                                  \n",
            " conv2d_114 (Conv2D)            (None, 25, 25, 48)   13824       ['mixed1[0][0]']                 \n",
            "                                                                                                  \n",
            " conv2d_117 (Conv2D)            (None, 25, 25, 96)   55296       ['activation_116[0][0]']         \n",
            "                                                                                                  \n",
            " batch_normalization_114 (Batch  (None, 25, 25, 48)  144         ['conv2d_114[0][0]']             \n",
            " Normalization)                                                                                   \n",
            "                                                                                                  \n",
            " batch_normalization_117 (Batch  (None, 25, 25, 96)  288         ['conv2d_117[0][0]']             \n",
            " Normalization)                                                                                   \n",
            "                                                                                                  \n",
            " activation_114 (Activation)    (None, 25, 25, 48)   0           ['batch_normalization_114[0][0]']\n",
            "                                                                                                  \n",
            " activation_117 (Activation)    (None, 25, 25, 96)   0           ['batch_normalization_117[0][0]']\n",
            "                                                                                                  \n",
            " average_pooling2d_11 (AverageP  (None, 25, 25, 288)  0          ['mixed1[0][0]']                 \n",
            " ooling2D)                                                                                        \n",
            "                                                                                                  \n",
            " conv2d_113 (Conv2D)            (None, 25, 25, 64)   18432       ['mixed1[0][0]']                 \n",
            "                                                                                                  \n",
            " conv2d_115 (Conv2D)            (None, 25, 25, 64)   76800       ['activation_114[0][0]']         \n",
            "                                                                                                  \n",
            " conv2d_118 (Conv2D)            (None, 25, 25, 96)   82944       ['activation_117[0][0]']         \n",
            "                                                                                                  \n",
            " conv2d_119 (Conv2D)            (None, 25, 25, 64)   18432       ['average_pooling2d_11[0][0]']   \n",
            "                                                                                                  \n",
            " batch_normalization_113 (Batch  (None, 25, 25, 64)  192         ['conv2d_113[0][0]']             \n",
            " Normalization)                                                                                   \n",
            "                                                                                                  \n",
            " batch_normalization_115 (Batch  (None, 25, 25, 64)  192         ['conv2d_115[0][0]']             \n",
            " Normalization)                                                                                   \n",
            "                                                                                                  \n",
            " batch_normalization_118 (Batch  (None, 25, 25, 96)  288         ['conv2d_118[0][0]']             \n",
            " Normalization)                                                                                   \n",
            "                                                                                                  \n",
            " batch_normalization_119 (Batch  (None, 25, 25, 64)  192         ['conv2d_119[0][0]']             \n",
            " Normalization)                                                                                   \n",
            "                                                                                                  \n",
            " activation_113 (Activation)    (None, 25, 25, 64)   0           ['batch_normalization_113[0][0]']\n",
            "                                                                                                  \n",
            " activation_115 (Activation)    (None, 25, 25, 64)   0           ['batch_normalization_115[0][0]']\n",
            "                                                                                                  \n",
            " activation_118 (Activation)    (None, 25, 25, 96)   0           ['batch_normalization_118[0][0]']\n",
            "                                                                                                  \n",
            " activation_119 (Activation)    (None, 25, 25, 64)   0           ['batch_normalization_119[0][0]']\n",
            "                                                                                                  \n",
            " mixed2 (Concatenate)           (None, 25, 25, 288)  0           ['activation_113[0][0]',         \n",
            "                                                                  'activation_115[0][0]',         \n",
            "                                                                  'activation_118[0][0]',         \n",
            "                                                                  'activation_119[0][0]']         \n",
            "                                                                                                  \n",
            " conv2d_121 (Conv2D)            (None, 25, 25, 64)   18432       ['mixed2[0][0]']                 \n",
            "                                                                                                  \n",
            " batch_normalization_121 (Batch  (None, 25, 25, 64)  192         ['conv2d_121[0][0]']             \n",
            " Normalization)                                                                                   \n",
            "                                                                                                  \n",
            " activation_121 (Activation)    (None, 25, 25, 64)   0           ['batch_normalization_121[0][0]']\n",
            "                                                                                                  \n",
            " conv2d_122 (Conv2D)            (None, 25, 25, 96)   55296       ['activation_121[0][0]']         \n",
            "                                                                                                  \n",
            " batch_normalization_122 (Batch  (None, 25, 25, 96)  288         ['conv2d_122[0][0]']             \n",
            " Normalization)                                                                                   \n",
            "                                                                                                  \n",
            " activation_122 (Activation)    (None, 25, 25, 96)   0           ['batch_normalization_122[0][0]']\n",
            "                                                                                                  \n",
            " conv2d_120 (Conv2D)            (None, 12, 12, 384)  995328      ['mixed2[0][0]']                 \n",
            "                                                                                                  \n",
            " conv2d_123 (Conv2D)            (None, 12, 12, 96)   82944       ['activation_122[0][0]']         \n",
            "                                                                                                  \n",
            " batch_normalization_120 (Batch  (None, 12, 12, 384)  1152       ['conv2d_120[0][0]']             \n",
            " Normalization)                                                                                   \n",
            "                                                                                                  \n",
            " batch_normalization_123 (Batch  (None, 12, 12, 96)  288         ['conv2d_123[0][0]']             \n",
            " Normalization)                                                                                   \n",
            "                                                                                                  \n",
            " activation_120 (Activation)    (None, 12, 12, 384)  0           ['batch_normalization_120[0][0]']\n",
            "                                                                                                  \n",
            " activation_123 (Activation)    (None, 12, 12, 96)   0           ['batch_normalization_123[0][0]']\n",
            "                                                                                                  \n",
            " max_pooling2d_6 (MaxPooling2D)  (None, 12, 12, 288)  0          ['mixed2[0][0]']                 \n",
            "                                                                                                  \n",
            " mixed3 (Concatenate)           (None, 12, 12, 768)  0           ['activation_120[0][0]',         \n",
            "                                                                  'activation_123[0][0]',         \n",
            "                                                                  'max_pooling2d_6[0][0]']        \n",
            "                                                                                                  \n",
            " conv2d_128 (Conv2D)            (None, 12, 12, 128)  98304       ['mixed3[0][0]']                 \n",
            "                                                                                                  \n",
            " batch_normalization_128 (Batch  (None, 12, 12, 128)  384        ['conv2d_128[0][0]']             \n",
            " Normalization)                                                                                   \n",
            "                                                                                                  \n",
            " activation_128 (Activation)    (None, 12, 12, 128)  0           ['batch_normalization_128[0][0]']\n",
            "                                                                                                  \n",
            " conv2d_129 (Conv2D)            (None, 12, 12, 128)  114688      ['activation_128[0][0]']         \n",
            "                                                                                                  \n",
            " batch_normalization_129 (Batch  (None, 12, 12, 128)  384        ['conv2d_129[0][0]']             \n",
            " Normalization)                                                                                   \n",
            "                                                                                                  \n",
            " activation_129 (Activation)    (None, 12, 12, 128)  0           ['batch_normalization_129[0][0]']\n",
            "                                                                                                  \n",
            " conv2d_125 (Conv2D)            (None, 12, 12, 128)  98304       ['mixed3[0][0]']                 \n",
            "                                                                                                  \n",
            " conv2d_130 (Conv2D)            (None, 12, 12, 128)  114688      ['activation_129[0][0]']         \n",
            "                                                                                                  \n",
            " batch_normalization_125 (Batch  (None, 12, 12, 128)  384        ['conv2d_125[0][0]']             \n",
            " Normalization)                                                                                   \n",
            "                                                                                                  \n",
            " batch_normalization_130 (Batch  (None, 12, 12, 128)  384        ['conv2d_130[0][0]']             \n",
            " Normalization)                                                                                   \n",
            "                                                                                                  \n",
            " activation_125 (Activation)    (None, 12, 12, 128)  0           ['batch_normalization_125[0][0]']\n",
            "                                                                                                  \n",
            " activation_130 (Activation)    (None, 12, 12, 128)  0           ['batch_normalization_130[0][0]']\n",
            "                                                                                                  \n",
            " conv2d_126 (Conv2D)            (None, 12, 12, 128)  114688      ['activation_125[0][0]']         \n",
            "                                                                                                  \n",
            " conv2d_131 (Conv2D)            (None, 12, 12, 128)  114688      ['activation_130[0][0]']         \n",
            "                                                                                                  \n",
            " batch_normalization_126 (Batch  (None, 12, 12, 128)  384        ['conv2d_126[0][0]']             \n",
            " Normalization)                                                                                   \n",
            "                                                                                                  \n",
            " batch_normalization_131 (Batch  (None, 12, 12, 128)  384        ['conv2d_131[0][0]']             \n",
            " Normalization)                                                                                   \n",
            "                                                                                                  \n",
            " activation_126 (Activation)    (None, 12, 12, 128)  0           ['batch_normalization_126[0][0]']\n",
            "                                                                                                  \n",
            " activation_131 (Activation)    (None, 12, 12, 128)  0           ['batch_normalization_131[0][0]']\n",
            "                                                                                                  \n",
            " average_pooling2d_12 (AverageP  (None, 12, 12, 768)  0          ['mixed3[0][0]']                 \n",
            " ooling2D)                                                                                        \n",
            "                                                                                                  \n",
            " conv2d_124 (Conv2D)            (None, 12, 12, 192)  147456      ['mixed3[0][0]']                 \n",
            "                                                                                                  \n",
            " conv2d_127 (Conv2D)            (None, 12, 12, 192)  172032      ['activation_126[0][0]']         \n",
            "                                                                                                  \n",
            " conv2d_132 (Conv2D)            (None, 12, 12, 192)  172032      ['activation_131[0][0]']         \n",
            "                                                                                                  \n",
            " conv2d_133 (Conv2D)            (None, 12, 12, 192)  147456      ['average_pooling2d_12[0][0]']   \n",
            "                                                                                                  \n",
            " batch_normalization_124 (Batch  (None, 12, 12, 192)  576        ['conv2d_124[0][0]']             \n",
            " Normalization)                                                                                   \n",
            "                                                                                                  \n",
            " batch_normalization_127 (Batch  (None, 12, 12, 192)  576        ['conv2d_127[0][0]']             \n",
            " Normalization)                                                                                   \n",
            "                                                                                                  \n",
            " batch_normalization_132 (Batch  (None, 12, 12, 192)  576        ['conv2d_132[0][0]']             \n",
            " Normalization)                                                                                   \n",
            "                                                                                                  \n",
            " batch_normalization_133 (Batch  (None, 12, 12, 192)  576        ['conv2d_133[0][0]']             \n",
            " Normalization)                                                                                   \n",
            "                                                                                                  \n",
            " activation_124 (Activation)    (None, 12, 12, 192)  0           ['batch_normalization_124[0][0]']\n",
            "                                                                                                  \n",
            " activation_127 (Activation)    (None, 12, 12, 192)  0           ['batch_normalization_127[0][0]']\n",
            "                                                                                                  \n",
            " activation_132 (Activation)    (None, 12, 12, 192)  0           ['batch_normalization_132[0][0]']\n",
            "                                                                                                  \n",
            " activation_133 (Activation)    (None, 12, 12, 192)  0           ['batch_normalization_133[0][0]']\n",
            "                                                                                                  \n",
            " mixed4 (Concatenate)           (None, 12, 12, 768)  0           ['activation_124[0][0]',         \n",
            "                                                                  'activation_127[0][0]',         \n",
            "                                                                  'activation_132[0][0]',         \n",
            "                                                                  'activation_133[0][0]']         \n",
            "                                                                                                  \n",
            " conv2d_138 (Conv2D)            (None, 12, 12, 160)  122880      ['mixed4[0][0]']                 \n",
            "                                                                                                  \n",
            " batch_normalization_138 (Batch  (None, 12, 12, 160)  480        ['conv2d_138[0][0]']             \n",
            " Normalization)                                                                                   \n",
            "                                                                                                  \n",
            " activation_138 (Activation)    (None, 12, 12, 160)  0           ['batch_normalization_138[0][0]']\n",
            "                                                                                                  \n",
            " conv2d_139 (Conv2D)            (None, 12, 12, 160)  179200      ['activation_138[0][0]']         \n",
            "                                                                                                  \n",
            " batch_normalization_139 (Batch  (None, 12, 12, 160)  480        ['conv2d_139[0][0]']             \n",
            " Normalization)                                                                                   \n",
            "                                                                                                  \n",
            " activation_139 (Activation)    (None, 12, 12, 160)  0           ['batch_normalization_139[0][0]']\n",
            "                                                                                                  \n",
            " conv2d_135 (Conv2D)            (None, 12, 12, 160)  122880      ['mixed4[0][0]']                 \n",
            "                                                                                                  \n",
            " conv2d_140 (Conv2D)            (None, 12, 12, 160)  179200      ['activation_139[0][0]']         \n",
            "                                                                                                  \n",
            " batch_normalization_135 (Batch  (None, 12, 12, 160)  480        ['conv2d_135[0][0]']             \n",
            " Normalization)                                                                                   \n",
            "                                                                                                  \n",
            " batch_normalization_140 (Batch  (None, 12, 12, 160)  480        ['conv2d_140[0][0]']             \n",
            " Normalization)                                                                                   \n",
            "                                                                                                  \n",
            " activation_135 (Activation)    (None, 12, 12, 160)  0           ['batch_normalization_135[0][0]']\n",
            "                                                                                                  \n",
            " activation_140 (Activation)    (None, 12, 12, 160)  0           ['batch_normalization_140[0][0]']\n",
            "                                                                                                  \n",
            " conv2d_136 (Conv2D)            (None, 12, 12, 160)  179200      ['activation_135[0][0]']         \n",
            "                                                                                                  \n",
            " conv2d_141 (Conv2D)            (None, 12, 12, 160)  179200      ['activation_140[0][0]']         \n",
            "                                                                                                  \n",
            " batch_normalization_136 (Batch  (None, 12, 12, 160)  480        ['conv2d_136[0][0]']             \n",
            " Normalization)                                                                                   \n",
            "                                                                                                  \n",
            " batch_normalization_141 (Batch  (None, 12, 12, 160)  480        ['conv2d_141[0][0]']             \n",
            " Normalization)                                                                                   \n",
            "                                                                                                  \n",
            " activation_136 (Activation)    (None, 12, 12, 160)  0           ['batch_normalization_136[0][0]']\n",
            "                                                                                                  \n",
            " activation_141 (Activation)    (None, 12, 12, 160)  0           ['batch_normalization_141[0][0]']\n",
            "                                                                                                  \n",
            " average_pooling2d_13 (AverageP  (None, 12, 12, 768)  0          ['mixed4[0][0]']                 \n",
            " ooling2D)                                                                                        \n",
            "                                                                                                  \n",
            " conv2d_134 (Conv2D)            (None, 12, 12, 192)  147456      ['mixed4[0][0]']                 \n",
            "                                                                                                  \n",
            " conv2d_137 (Conv2D)            (None, 12, 12, 192)  215040      ['activation_136[0][0]']         \n",
            "                                                                                                  \n",
            " conv2d_142 (Conv2D)            (None, 12, 12, 192)  215040      ['activation_141[0][0]']         \n",
            "                                                                                                  \n",
            " conv2d_143 (Conv2D)            (None, 12, 12, 192)  147456      ['average_pooling2d_13[0][0]']   \n",
            "                                                                                                  \n",
            " batch_normalization_134 (Batch  (None, 12, 12, 192)  576        ['conv2d_134[0][0]']             \n",
            " Normalization)                                                                                   \n",
            "                                                                                                  \n",
            " batch_normalization_137 (Batch  (None, 12, 12, 192)  576        ['conv2d_137[0][0]']             \n",
            " Normalization)                                                                                   \n",
            "                                                                                                  \n",
            " batch_normalization_142 (Batch  (None, 12, 12, 192)  576        ['conv2d_142[0][0]']             \n",
            " Normalization)                                                                                   \n",
            "                                                                                                  \n",
            " batch_normalization_143 (Batch  (None, 12, 12, 192)  576        ['conv2d_143[0][0]']             \n",
            " Normalization)                                                                                   \n",
            "                                                                                                  \n",
            " activation_134 (Activation)    (None, 12, 12, 192)  0           ['batch_normalization_134[0][0]']\n",
            "                                                                                                  \n",
            " activation_137 (Activation)    (None, 12, 12, 192)  0           ['batch_normalization_137[0][0]']\n",
            "                                                                                                  \n",
            " activation_142 (Activation)    (None, 12, 12, 192)  0           ['batch_normalization_142[0][0]']\n",
            "                                                                                                  \n",
            " activation_143 (Activation)    (None, 12, 12, 192)  0           ['batch_normalization_143[0][0]']\n",
            "                                                                                                  \n",
            " mixed5 (Concatenate)           (None, 12, 12, 768)  0           ['activation_134[0][0]',         \n",
            "                                                                  'activation_137[0][0]',         \n",
            "                                                                  'activation_142[0][0]',         \n",
            "                                                                  'activation_143[0][0]']         \n",
            "                                                                                                  \n",
            " conv2d_148 (Conv2D)            (None, 12, 12, 160)  122880      ['mixed5[0][0]']                 \n",
            "                                                                                                  \n",
            " batch_normalization_148 (Batch  (None, 12, 12, 160)  480        ['conv2d_148[0][0]']             \n",
            " Normalization)                                                                                   \n",
            "                                                                                                  \n",
            " activation_148 (Activation)    (None, 12, 12, 160)  0           ['batch_normalization_148[0][0]']\n",
            "                                                                                                  \n",
            " conv2d_149 (Conv2D)            (None, 12, 12, 160)  179200      ['activation_148[0][0]']         \n",
            "                                                                                                  \n",
            " batch_normalization_149 (Batch  (None, 12, 12, 160)  480        ['conv2d_149[0][0]']             \n",
            " Normalization)                                                                                   \n",
            "                                                                                                  \n",
            " activation_149 (Activation)    (None, 12, 12, 160)  0           ['batch_normalization_149[0][0]']\n",
            "                                                                                                  \n",
            " conv2d_145 (Conv2D)            (None, 12, 12, 160)  122880      ['mixed5[0][0]']                 \n",
            "                                                                                                  \n",
            " conv2d_150 (Conv2D)            (None, 12, 12, 160)  179200      ['activation_149[0][0]']         \n",
            "                                                                                                  \n",
            " batch_normalization_145 (Batch  (None, 12, 12, 160)  480        ['conv2d_145[0][0]']             \n",
            " Normalization)                                                                                   \n",
            "                                                                                                  \n",
            " batch_normalization_150 (Batch  (None, 12, 12, 160)  480        ['conv2d_150[0][0]']             \n",
            " Normalization)                                                                                   \n",
            "                                                                                                  \n",
            " activation_145 (Activation)    (None, 12, 12, 160)  0           ['batch_normalization_145[0][0]']\n",
            "                                                                                                  \n",
            " activation_150 (Activation)    (None, 12, 12, 160)  0           ['batch_normalization_150[0][0]']\n",
            "                                                                                                  \n",
            " conv2d_146 (Conv2D)            (None, 12, 12, 160)  179200      ['activation_145[0][0]']         \n",
            "                                                                                                  \n",
            " conv2d_151 (Conv2D)            (None, 12, 12, 160)  179200      ['activation_150[0][0]']         \n",
            "                                                                                                  \n",
            " batch_normalization_146 (Batch  (None, 12, 12, 160)  480        ['conv2d_146[0][0]']             \n",
            " Normalization)                                                                                   \n",
            "                                                                                                  \n",
            " batch_normalization_151 (Batch  (None, 12, 12, 160)  480        ['conv2d_151[0][0]']             \n",
            " Normalization)                                                                                   \n",
            "                                                                                                  \n",
            " activation_146 (Activation)    (None, 12, 12, 160)  0           ['batch_normalization_146[0][0]']\n",
            "                                                                                                  \n",
            " activation_151 (Activation)    (None, 12, 12, 160)  0           ['batch_normalization_151[0][0]']\n",
            "                                                                                                  \n",
            " average_pooling2d_14 (AverageP  (None, 12, 12, 768)  0          ['mixed5[0][0]']                 \n",
            " ooling2D)                                                                                        \n",
            "                                                                                                  \n",
            " conv2d_144 (Conv2D)            (None, 12, 12, 192)  147456      ['mixed5[0][0]']                 \n",
            "                                                                                                  \n",
            " conv2d_147 (Conv2D)            (None, 12, 12, 192)  215040      ['activation_146[0][0]']         \n",
            "                                                                                                  \n",
            " conv2d_152 (Conv2D)            (None, 12, 12, 192)  215040      ['activation_151[0][0]']         \n",
            "                                                                                                  \n",
            " conv2d_153 (Conv2D)            (None, 12, 12, 192)  147456      ['average_pooling2d_14[0][0]']   \n",
            "                                                                                                  \n",
            " batch_normalization_144 (Batch  (None, 12, 12, 192)  576        ['conv2d_144[0][0]']             \n",
            " Normalization)                                                                                   \n",
            "                                                                                                  \n",
            " batch_normalization_147 (Batch  (None, 12, 12, 192)  576        ['conv2d_147[0][0]']             \n",
            " Normalization)                                                                                   \n",
            "                                                                                                  \n",
            " batch_normalization_152 (Batch  (None, 12, 12, 192)  576        ['conv2d_152[0][0]']             \n",
            " Normalization)                                                                                   \n",
            "                                                                                                  \n",
            " batch_normalization_153 (Batch  (None, 12, 12, 192)  576        ['conv2d_153[0][0]']             \n",
            " Normalization)                                                                                   \n",
            "                                                                                                  \n",
            " activation_144 (Activation)    (None, 12, 12, 192)  0           ['batch_normalization_144[0][0]']\n",
            "                                                                                                  \n",
            " activation_147 (Activation)    (None, 12, 12, 192)  0           ['batch_normalization_147[0][0]']\n",
            "                                                                                                  \n",
            " activation_152 (Activation)    (None, 12, 12, 192)  0           ['batch_normalization_152[0][0]']\n",
            "                                                                                                  \n",
            " activation_153 (Activation)    (None, 12, 12, 192)  0           ['batch_normalization_153[0][0]']\n",
            "                                                                                                  \n",
            " mixed6 (Concatenate)           (None, 12, 12, 768)  0           ['activation_144[0][0]',         \n",
            "                                                                  'activation_147[0][0]',         \n",
            "                                                                  'activation_152[0][0]',         \n",
            "                                                                  'activation_153[0][0]']         \n",
            "                                                                                                  \n",
            " conv2d_158 (Conv2D)            (None, 12, 12, 192)  147456      ['mixed6[0][0]']                 \n",
            "                                                                                                  \n",
            " batch_normalization_158 (Batch  (None, 12, 12, 192)  576        ['conv2d_158[0][0]']             \n",
            " Normalization)                                                                                   \n",
            "                                                                                                  \n",
            " activation_158 (Activation)    (None, 12, 12, 192)  0           ['batch_normalization_158[0][0]']\n",
            "                                                                                                  \n",
            " conv2d_159 (Conv2D)            (None, 12, 12, 192)  258048      ['activation_158[0][0]']         \n",
            "                                                                                                  \n",
            " batch_normalization_159 (Batch  (None, 12, 12, 192)  576        ['conv2d_159[0][0]']             \n",
            " Normalization)                                                                                   \n",
            "                                                                                                  \n",
            " activation_159 (Activation)    (None, 12, 12, 192)  0           ['batch_normalization_159[0][0]']\n",
            "                                                                                                  \n",
            " conv2d_155 (Conv2D)            (None, 12, 12, 192)  147456      ['mixed6[0][0]']                 \n",
            "                                                                                                  \n",
            " conv2d_160 (Conv2D)            (None, 12, 12, 192)  258048      ['activation_159[0][0]']         \n",
            "                                                                                                  \n",
            " batch_normalization_155 (Batch  (None, 12, 12, 192)  576        ['conv2d_155[0][0]']             \n",
            " Normalization)                                                                                   \n",
            "                                                                                                  \n",
            " batch_normalization_160 (Batch  (None, 12, 12, 192)  576        ['conv2d_160[0][0]']             \n",
            " Normalization)                                                                                   \n",
            "                                                                                                  \n",
            " activation_155 (Activation)    (None, 12, 12, 192)  0           ['batch_normalization_155[0][0]']\n",
            "                                                                                                  \n",
            " activation_160 (Activation)    (None, 12, 12, 192)  0           ['batch_normalization_160[0][0]']\n",
            "                                                                                                  \n",
            " conv2d_156 (Conv2D)            (None, 12, 12, 192)  258048      ['activation_155[0][0]']         \n",
            "                                                                                                  \n",
            " conv2d_161 (Conv2D)            (None, 12, 12, 192)  258048      ['activation_160[0][0]']         \n",
            "                                                                                                  \n",
            " batch_normalization_156 (Batch  (None, 12, 12, 192)  576        ['conv2d_156[0][0]']             \n",
            " Normalization)                                                                                   \n",
            "                                                                                                  \n",
            " batch_normalization_161 (Batch  (None, 12, 12, 192)  576        ['conv2d_161[0][0]']             \n",
            " Normalization)                                                                                   \n",
            "                                                                                                  \n",
            " activation_156 (Activation)    (None, 12, 12, 192)  0           ['batch_normalization_156[0][0]']\n",
            "                                                                                                  \n",
            " activation_161 (Activation)    (None, 12, 12, 192)  0           ['batch_normalization_161[0][0]']\n",
            "                                                                                                  \n",
            " average_pooling2d_15 (AverageP  (None, 12, 12, 768)  0          ['mixed6[0][0]']                 \n",
            " ooling2D)                                                                                        \n",
            "                                                                                                  \n",
            " conv2d_154 (Conv2D)            (None, 12, 12, 192)  147456      ['mixed6[0][0]']                 \n",
            "                                                                                                  \n",
            " conv2d_157 (Conv2D)            (None, 12, 12, 192)  258048      ['activation_156[0][0]']         \n",
            "                                                                                                  \n",
            " conv2d_162 (Conv2D)            (None, 12, 12, 192)  258048      ['activation_161[0][0]']         \n",
            "                                                                                                  \n",
            " conv2d_163 (Conv2D)            (None, 12, 12, 192)  147456      ['average_pooling2d_15[0][0]']   \n",
            "                                                                                                  \n",
            " batch_normalization_154 (Batch  (None, 12, 12, 192)  576        ['conv2d_154[0][0]']             \n",
            " Normalization)                                                                                   \n",
            "                                                                                                  \n",
            " batch_normalization_157 (Batch  (None, 12, 12, 192)  576        ['conv2d_157[0][0]']             \n",
            " Normalization)                                                                                   \n",
            "                                                                                                  \n",
            " batch_normalization_162 (Batch  (None, 12, 12, 192)  576        ['conv2d_162[0][0]']             \n",
            " Normalization)                                                                                   \n",
            "                                                                                                  \n",
            " batch_normalization_163 (Batch  (None, 12, 12, 192)  576        ['conv2d_163[0][0]']             \n",
            " Normalization)                                                                                   \n",
            "                                                                                                  \n",
            " activation_154 (Activation)    (None, 12, 12, 192)  0           ['batch_normalization_154[0][0]']\n",
            "                                                                                                  \n",
            " activation_157 (Activation)    (None, 12, 12, 192)  0           ['batch_normalization_157[0][0]']\n",
            "                                                                                                  \n",
            " activation_162 (Activation)    (None, 12, 12, 192)  0           ['batch_normalization_162[0][0]']\n",
            "                                                                                                  \n",
            " activation_163 (Activation)    (None, 12, 12, 192)  0           ['batch_normalization_163[0][0]']\n",
            "                                                                                                  \n",
            " mixed7 (Concatenate)           (None, 12, 12, 768)  0           ['activation_154[0][0]',         \n",
            "                                                                  'activation_157[0][0]',         \n",
            "                                                                  'activation_162[0][0]',         \n",
            "                                                                  'activation_163[0][0]']         \n",
            "                                                                                                  \n",
            " conv2d_166 (Conv2D)            (None, 12, 12, 192)  147456      ['mixed7[0][0]']                 \n",
            "                                                                                                  \n",
            " batch_normalization_166 (Batch  (None, 12, 12, 192)  576        ['conv2d_166[0][0]']             \n",
            " Normalization)                                                                                   \n",
            "                                                                                                  \n",
            " activation_166 (Activation)    (None, 12, 12, 192)  0           ['batch_normalization_166[0][0]']\n",
            "                                                                                                  \n",
            " conv2d_167 (Conv2D)            (None, 12, 12, 192)  258048      ['activation_166[0][0]']         \n",
            "                                                                                                  \n",
            " batch_normalization_167 (Batch  (None, 12, 12, 192)  576        ['conv2d_167[0][0]']             \n",
            " Normalization)                                                                                   \n",
            "                                                                                                  \n",
            " activation_167 (Activation)    (None, 12, 12, 192)  0           ['batch_normalization_167[0][0]']\n",
            "                                                                                                  \n",
            " conv2d_164 (Conv2D)            (None, 12, 12, 192)  147456      ['mixed7[0][0]']                 \n",
            "                                                                                                  \n",
            " conv2d_168 (Conv2D)            (None, 12, 12, 192)  258048      ['activation_167[0][0]']         \n",
            "                                                                                                  \n",
            " batch_normalization_164 (Batch  (None, 12, 12, 192)  576        ['conv2d_164[0][0]']             \n",
            " Normalization)                                                                                   \n",
            "                                                                                                  \n",
            " batch_normalization_168 (Batch  (None, 12, 12, 192)  576        ['conv2d_168[0][0]']             \n",
            " Normalization)                                                                                   \n",
            "                                                                                                  \n",
            " activation_164 (Activation)    (None, 12, 12, 192)  0           ['batch_normalization_164[0][0]']\n",
            "                                                                                                  \n",
            " activation_168 (Activation)    (None, 12, 12, 192)  0           ['batch_normalization_168[0][0]']\n",
            "                                                                                                  \n",
            " conv2d_165 (Conv2D)            (None, 5, 5, 320)    552960      ['activation_164[0][0]']         \n",
            "                                                                                                  \n",
            " conv2d_169 (Conv2D)            (None, 5, 5, 192)    331776      ['activation_168[0][0]']         \n",
            "                                                                                                  \n",
            " batch_normalization_165 (Batch  (None, 5, 5, 320)   960         ['conv2d_165[0][0]']             \n",
            " Normalization)                                                                                   \n",
            "                                                                                                  \n",
            " batch_normalization_169 (Batch  (None, 5, 5, 192)   576         ['conv2d_169[0][0]']             \n",
            " Normalization)                                                                                   \n",
            "                                                                                                  \n",
            " activation_165 (Activation)    (None, 5, 5, 320)    0           ['batch_normalization_165[0][0]']\n",
            "                                                                                                  \n",
            " activation_169 (Activation)    (None, 5, 5, 192)    0           ['batch_normalization_169[0][0]']\n",
            "                                                                                                  \n",
            " max_pooling2d_7 (MaxPooling2D)  (None, 5, 5, 768)   0           ['mixed7[0][0]']                 \n",
            "                                                                                                  \n",
            " mixed8 (Concatenate)           (None, 5, 5, 1280)   0           ['activation_165[0][0]',         \n",
            "                                                                  'activation_169[0][0]',         \n",
            "                                                                  'max_pooling2d_7[0][0]']        \n",
            "                                                                                                  \n",
            " conv2d_174 (Conv2D)            (None, 5, 5, 448)    573440      ['mixed8[0][0]']                 \n",
            "                                                                                                  \n",
            " batch_normalization_174 (Batch  (None, 5, 5, 448)   1344        ['conv2d_174[0][0]']             \n",
            " Normalization)                                                                                   \n",
            "                                                                                                  \n",
            " activation_174 (Activation)    (None, 5, 5, 448)    0           ['batch_normalization_174[0][0]']\n",
            "                                                                                                  \n",
            " conv2d_171 (Conv2D)            (None, 5, 5, 384)    491520      ['mixed8[0][0]']                 \n",
            "                                                                                                  \n",
            " conv2d_175 (Conv2D)            (None, 5, 5, 384)    1548288     ['activation_174[0][0]']         \n",
            "                                                                                                  \n",
            " batch_normalization_171 (Batch  (None, 5, 5, 384)   1152        ['conv2d_171[0][0]']             \n",
            " Normalization)                                                                                   \n",
            "                                                                                                  \n",
            " batch_normalization_175 (Batch  (None, 5, 5, 384)   1152        ['conv2d_175[0][0]']             \n",
            " Normalization)                                                                                   \n",
            "                                                                                                  \n",
            " activation_171 (Activation)    (None, 5, 5, 384)    0           ['batch_normalization_171[0][0]']\n",
            "                                                                                                  \n",
            " activation_175 (Activation)    (None, 5, 5, 384)    0           ['batch_normalization_175[0][0]']\n",
            "                                                                                                  \n",
            " conv2d_172 (Conv2D)            (None, 5, 5, 384)    442368      ['activation_171[0][0]']         \n",
            "                                                                                                  \n",
            " conv2d_173 (Conv2D)            (None, 5, 5, 384)    442368      ['activation_171[0][0]']         \n",
            "                                                                                                  \n",
            " conv2d_176 (Conv2D)            (None, 5, 5, 384)    442368      ['activation_175[0][0]']         \n",
            "                                                                                                  \n",
            " conv2d_177 (Conv2D)            (None, 5, 5, 384)    442368      ['activation_175[0][0]']         \n",
            "                                                                                                  \n",
            " average_pooling2d_16 (AverageP  (None, 5, 5, 1280)  0           ['mixed8[0][0]']                 \n",
            " ooling2D)                                                                                        \n",
            "                                                                                                  \n",
            " conv2d_170 (Conv2D)            (None, 5, 5, 320)    409600      ['mixed8[0][0]']                 \n",
            "                                                                                                  \n",
            " batch_normalization_172 (Batch  (None, 5, 5, 384)   1152        ['conv2d_172[0][0]']             \n",
            " Normalization)                                                                                   \n",
            "                                                                                                  \n",
            " batch_normalization_173 (Batch  (None, 5, 5, 384)   1152        ['conv2d_173[0][0]']             \n",
            " Normalization)                                                                                   \n",
            "                                                                                                  \n",
            " batch_normalization_176 (Batch  (None, 5, 5, 384)   1152        ['conv2d_176[0][0]']             \n",
            " Normalization)                                                                                   \n",
            "                                                                                                  \n",
            " batch_normalization_177 (Batch  (None, 5, 5, 384)   1152        ['conv2d_177[0][0]']             \n",
            " Normalization)                                                                                   \n",
            "                                                                                                  \n",
            " conv2d_178 (Conv2D)            (None, 5, 5, 192)    245760      ['average_pooling2d_16[0][0]']   \n",
            "                                                                                                  \n",
            " batch_normalization_170 (Batch  (None, 5, 5, 320)   960         ['conv2d_170[0][0]']             \n",
            " Normalization)                                                                                   \n",
            "                                                                                                  \n",
            " activation_172 (Activation)    (None, 5, 5, 384)    0           ['batch_normalization_172[0][0]']\n",
            "                                                                                                  \n",
            " activation_173 (Activation)    (None, 5, 5, 384)    0           ['batch_normalization_173[0][0]']\n",
            "                                                                                                  \n",
            " activation_176 (Activation)    (None, 5, 5, 384)    0           ['batch_normalization_176[0][0]']\n",
            "                                                                                                  \n",
            " activation_177 (Activation)    (None, 5, 5, 384)    0           ['batch_normalization_177[0][0]']\n",
            "                                                                                                  \n",
            " batch_normalization_178 (Batch  (None, 5, 5, 192)   576         ['conv2d_178[0][0]']             \n",
            " Normalization)                                                                                   \n",
            "                                                                                                  \n",
            " activation_170 (Activation)    (None, 5, 5, 320)    0           ['batch_normalization_170[0][0]']\n",
            "                                                                                                  \n",
            " mixed9_0 (Concatenate)         (None, 5, 5, 768)    0           ['activation_172[0][0]',         \n",
            "                                                                  'activation_173[0][0]']         \n",
            "                                                                                                  \n",
            " concatenate_2 (Concatenate)    (None, 5, 5, 768)    0           ['activation_176[0][0]',         \n",
            "                                                                  'activation_177[0][0]']         \n",
            "                                                                                                  \n",
            " activation_178 (Activation)    (None, 5, 5, 192)    0           ['batch_normalization_178[0][0]']\n",
            "                                                                                                  \n",
            " mixed9 (Concatenate)           (None, 5, 5, 2048)   0           ['activation_170[0][0]',         \n",
            "                                                                  'mixed9_0[0][0]',               \n",
            "                                                                  'concatenate_2[0][0]',          \n",
            "                                                                  'activation_178[0][0]']         \n",
            "                                                                                                  \n",
            " average_pooling2d_17 (AverageP  (None, 5, 5, 2048)  0           ['mixed9[0][0]']                 \n",
            " ooling2D)                                                                                        \n",
            "                                                                                                  \n",
            " conv2d_187 (Conv2D)            (None, 5, 5, 192)    393216      ['average_pooling2d_17[0][0]']   \n",
            "                                                                                                  \n",
            " batch_normalization_187 (Batch  (None, 5, 5, 192)   576         ['conv2d_187[0][0]']             \n",
            " Normalization)                                                                                   \n",
            "                                                                                                  \n",
            " activation_187 (Activation)    (None, 5, 5, 192)    0           ['batch_normalization_187[0][0]']\n",
            "                                                                                                  \n",
            "==================================================================================================\n",
            "Total params: 16,116,512\n",
            "Trainable params: 16,088,224\n",
            "Non-trainable params: 28,288\n",
            "__________________________________________________________________________________________________\n",
            "\tFeatures in x prediction:  (500, 4800)\n"
          ]
        }
      ]
    },
    {
      "cell_type": "code",
      "source": [
        "Xtrain_1, Xtest_1, ytrain_1, ytest_1 = train_test_split(x_pred,y, test_size=0.1, random_state = 10)"
      ],
      "metadata": {
        "id": "59mOLnup4u9D"
      },
      "execution_count": null,
      "outputs": []
    },
    {
      "cell_type": "code",
      "execution_count": null,
      "metadata": {
        "id": "DmGZxiZK0wMe",
        "colab": {
          "base_uri": "https://localhost:8080/"
        },
        "outputId": "c7a68df2-1eb2-490a-91a8-1a94152ccff3"
      },
      "outputs": [
        {
          "output_type": "stream",
          "name": "stdout",
          "text": [
            "\tTraining set shape:  (450, 4800)\n",
            "\tTesting set shape:  (50, 4800)\n"
          ]
        }
      ],
      "source": [
        "print('\\tTraining set shape: ', Xtrain_1.shape)\n",
        "print('\\tTesting set shape: ', Xtest_1.shape)"
      ]
    },
    {
      "cell_type": "code",
      "execution_count": null,
      "metadata": {
        "id": "UhW_C6n0evi3"
      },
      "outputs": [],
      "source": [
        "estimators = [GaussianNB(), BernoulliNB(), ComplementNB()]\n",
        "def gridnb(estimator, xtrain, ytrain, xtest, ytest):\n",
        "  results = []\n",
        "  result_pred = []\n",
        "  #O Naive Bayes não possui muitos parâmetros para serem implementados nas suas funções, mas para que seja utilizado o cross validation é necessário implementar um grid nulo, apenas para ele utilizar\n",
        "  #as configurações padrões da classe\n",
        "  grid_nb = {}\n",
        "  for i in estimators:\n",
        "    nb = GridSearchCV(estimator=i, param_grid=grid_nb, cv = 10)\n",
        "    nb.fit(xtrain, ytrain)\n",
        "    result = nb.predict(xtest)\n",
        "    result_pred.append(result)\n",
        "    accnb = accuracy_score(result, ytest)\n",
        "    results.append(accnb)\n",
        "  max_acc = max(results)\n",
        "  max_acc_model = str(estimators[results.index(max_acc)]).strip('()')\n",
        "  results_best_model = result_pred[results.index(max_acc)]\n",
        "  return max_acc, max_acc_model, results_best_model"
      ]
    },
    {
      "cell_type": "code",
      "source": [
        "grid_dt = {\n",
        "    'random_state' : [10, 20],\n",
        "    'max_features':['auto', 'sqrt', 'log2'],\n",
        "    'max_depth': [i for i in range(1,10)],\n",
        "}\n",
        "dt = GridSearchCV(estimator=DecisionTreeClassifier(), param_grid=grid_dt, cv = 20)"
      ],
      "metadata": {
        "id": "Gyh9s8fR9y-P"
      },
      "execution_count": null,
      "outputs": []
    },
    {
      "cell_type": "code",
      "execution_count": null,
      "metadata": {
        "id": "aVDatxvj3VuX"
      },
      "outputs": [],
      "source": [
        "pca = PCA(n_components = .9, svd_solver = 'full')\n",
        "Xtrain1 = pca.fit_transform(Xtrain_1)\n",
        "Xtest1 = pca.transform(Xtest_1)\n",
        "Xtrain1_minmax, Xtrain1_std = MinMaxScaler().fit_transform(Xtrain_1), StandardScaler().fit_transform(Xtrain_1) \n",
        "Xtest1_minmax, Xtest1_std = MinMaxScaler().fit_transform(Xtest_1), StandardScaler().fit_transform(Xtest_1)"
      ]
    },
    {
      "cell_type": "code",
      "execution_count": null,
      "metadata": {
        "id": "Ax8OgCFh4fEV",
        "colab": {
          "base_uri": "https://localhost:8080/"
        },
        "outputId": "0571bd86-7a42-43b8-ef4d-cf5b330872af"
      },
      "outputs": [
        {
          "output_type": "stream",
          "name": "stdout",
          "text": [
            "Classification with Decision Tree ...\n",
            "\tAccuracy Decision Tree: 0.3600\n",
            "\tBest parameters:\n",
            "\t {\"max_depth': 7, 'max_features': 'auto', 'random_state': 10\"}\n"
          ]
        }
      ],
      "source": [
        "print(\"Classification with Decision Tree ...\")\n",
        "dt.fit(Xtrain1_std, ytrain_1)\n",
        "result = dt.predict(Xtest1_std)\n",
        "\n",
        "accdt = accuracy_score(result, ytest_1)\n",
        "print(f\"\\tAccuracy Decision Tree: {accdt:0.4f}\")\n",
        "print('\\tBest parameters:')\n",
        "print('\\t', {str(dt.best_params_).strip(r\"{'}\")})"
      ]
    },
    {
      "cell_type": "code",
      "execution_count": null,
      "metadata": {
        "id": "flBSprut5KJi",
        "colab": {
          "base_uri": "https://localhost:8080/"
        },
        "outputId": "70383872-98a7-4e64-a4e7-5eb7d3e660f4"
      },
      "outputs": [
        {
          "output_type": "stream",
          "name": "stdout",
          "text": [
            "Classification with Naive Bayes...\n",
            "\tAccuracy Naive Bayes: 0.5000\n",
            "\tBest Model: ComplementNB\n"
          ]
        }
      ],
      "source": [
        "print('Classification with Naive Bayes...')\n",
        "max_acc, max_acc_model, results = gridnb(estimators, Xtrain1_minmax, ytrain_1, Xtest1_minmax, ytest_1)\n",
        "\n",
        "print(f'\\tAccuracy Naive Bayes: {max_acc:0.4f}')\n",
        "print('\\tBest Model:', max_acc_model)"
      ]
    },
    {
      "cell_type": "code",
      "execution_count": null,
      "metadata": {
        "id": "5Gu1CEjn7xuf",
        "colab": {
          "base_uri": "https://localhost:8080/"
        },
        "outputId": "0cd5f22f-6caf-4d93-8f0a-b84ffbce4d7c"
      },
      "outputs": [
        {
          "output_type": "stream",
          "name": "stdout",
          "text": [
            "Best model: Complement Naive Bayes \n",
            "Score: 50.0%\n",
            "Difference between Decision Tree: 14.00%\n"
          ]
        }
      ],
      "source": [
        "#avaliação de resultados\n",
        "if accdt > max_acc:\n",
        "  best_acc, best_ml_model = accdt, 'Decision Tree'\n",
        "  print('Best model: Decision Tree')\n",
        "  print(f'Score: {100*accdt}%', )\n",
        "  print(f'Diference between Naive Bayes: {100*(accdt - max_acc):.02f}%', )\n",
        "else:\n",
        "  best_acc, best_ml_model = accdt, 'Naive Bayes'\n",
        "  print(f'Best model: {max_acc_model.strip(\"NB\")} Naive Bayes ')\n",
        "  print(f'Score: {100*max_acc}%', )\n",
        "  print(f'Difference between Decision Tree: {100*(max_acc - accdt):.02f}%', )"
      ]
    },
    {
      "cell_type": "markdown",
      "source": [
        "## b) Compare a predição diretamente pela rede com a extração de características (0,5 ponto)."
      ],
      "metadata": {
        "id": "Ofw2kY_XBJHT"
      }
    },
    {
      "cell_type": "code",
      "source": [
        "#Comparação dos resultados\n",
        "if scoreMLP[1] > best_acc:\n",
        "  print('Best model: Neural Network')\n",
        "  print(f'Score: {round(scoreMLP[1],2)}')\n",
        "  print(f'Diference between Machine Learning model: {100*(scoreMLP[1] - best_acc):.02f}%', )\n",
        "else:\n",
        "  print('Best model: Machine Learning')\n",
        "  print(f'Score: {best_acc}')\n",
        "  print(f'Diference between Machine Learning model: {100*(best_acc - scoreMLP[1]):.02f}%', )"
      ],
      "metadata": {
        "colab": {
          "base_uri": "https://localhost:8080/"
        },
        "id": "Iq9307_ABKjG",
        "outputId": "5132f108-f7a8-4ec2-ebec-37f5b848d8f3"
      },
      "execution_count": null,
      "outputs": [
        {
          "output_type": "stream",
          "name": "stdout",
          "text": [
            "Best model: Neural Network\n",
            "Score: 0.86\n",
            "Diference between Machine Learning model: 50.00%\n"
          ]
        }
      ]
    },
    {
      "cell_type": "markdown",
      "source": [
        "# Questão 2) Considerando a mesma rede pré-treinada do exercício anterior, faça fine-tuning congelando algumas camadas. Determine a quantidade de camadas a serem congeladas, indique o setup escolhido e compare o resultado obtido em relação ao fine-tuning convencional. (2,5 pontos)"
      ],
      "metadata": {
        "id": "XRAAvknCYKNY"
      }
    },
    {
      "cell_type": "code",
      "source": [
        "print('Loading the InceptionV3 model with last 10 layers frozen ...')\n",
        "# Rede Inception V3\n",
        "model_freeze = inception_v3.InceptionV3(include_top=False, weights='imagenet', input_shape=(224, 224, 3), classes=1000)\n",
        "model_freeze = Model(inputs=model_freeze.input, outputs=model_freeze.get_layer(index=-2).output)\n",
        "\n",
        "#O setup de congelamento escolhido é o congelamento das ultimas 10 camadas\n",
        "for layer in model_freeze.layers[:-10]:\n",
        "    layer.trainable=False\n",
        "\n",
        "# A mesma da rede fine-tuning normal, pois a comparação só deve ser feita caso a única diferença seja o congelamento.\n",
        "new_top = keras.Sequential()\n",
        "new_top.add(keras.layers.Flatten())\n",
        "new_top.add(keras.layers.Dense(20, activation = 'relu'))\n",
        "new_top.add(keras.layers.Dense(10, activation = 'relu'))\n",
        "new_top.add(keras.layers.Dense(5, activation = 'softmax'))\n",
        "\n",
        "model_freeze = Model(inputs=model_freeze.input, outputs=new_top(model_freeze.output))\n",
        "\n",
        "model_freeze.compile(optimizer= keras.optimizers.Adam(0.0001), loss='categorical_crossentropy' ,metrics=[keras.metrics.CategoricalAccuracy(name = 'accuracy')])\n",
        "history_freeze = model_freeze.fit(Xtrain, Ytrain, batch_size=10, epochs=15)"
      ],
      "metadata": {
        "colab": {
          "base_uri": "https://localhost:8080/"
        },
        "id": "Cb2ehy9NCIuU",
        "outputId": "c1270cc0-abef-42d4-8761-3d146cb6d928"
      },
      "execution_count": null,
      "outputs": [
        {
          "output_type": "stream",
          "name": "stdout",
          "text": [
            "Loading the InceptionV3 model with last 10 layers frozen ...\n",
            "Epoch 1/15\n",
            "40/40 [==============================] - 7s 41ms/step - loss: 1.5190 - accuracy: 0.3725\n",
            "Epoch 2/15\n",
            "40/40 [==============================] - 1s 28ms/step - loss: 1.0265 - accuracy: 0.6600\n",
            "Epoch 3/15\n",
            "40/40 [==============================] - 1s 28ms/step - loss: 0.6835 - accuracy: 0.8000\n",
            "Epoch 4/15\n",
            "40/40 [==============================] - 1s 28ms/step - loss: 0.4761 - accuracy: 0.8850\n",
            "Epoch 5/15\n",
            "40/40 [==============================] - 1s 28ms/step - loss: 0.2982 - accuracy: 0.9600\n",
            "Epoch 6/15\n",
            "40/40 [==============================] - 1s 28ms/step - loss: 0.2292 - accuracy: 0.9700\n",
            "Epoch 7/15\n",
            "40/40 [==============================] - 1s 28ms/step - loss: 0.1689 - accuracy: 0.9800\n",
            "Epoch 8/15\n",
            "40/40 [==============================] - 1s 28ms/step - loss: 0.1206 - accuracy: 0.9950\n",
            "Epoch 9/15\n",
            "40/40 [==============================] - 1s 28ms/step - loss: 0.1026 - accuracy: 0.9875\n",
            "Epoch 10/15\n",
            "40/40 [==============================] - 1s 27ms/step - loss: 0.0735 - accuracy: 0.9975\n",
            "Epoch 11/15\n",
            "40/40 [==============================] - 1s 27ms/step - loss: 0.0589 - accuracy: 0.9975\n",
            "Epoch 12/15\n",
            "40/40 [==============================] - 1s 27ms/step - loss: 0.0560 - accuracy: 0.9975\n",
            "Epoch 13/15\n",
            "40/40 [==============================] - 1s 27ms/step - loss: 0.0432 - accuracy: 0.9975\n",
            "Epoch 14/15\n",
            "40/40 [==============================] - 1s 27ms/step - loss: 0.0348 - accuracy: 0.9975\n",
            "Epoch 15/15\n",
            "40/40 [==============================] - 1s 27ms/step - loss: 0.0324 - accuracy: 0.9975\n"
          ]
        }
      ]
    },
    {
      "cell_type": "code",
      "source": [
        "scoreMLP_freeze = model_freeze.evaluate(Xtest, Ytest)\n",
        "print(model_freeze.metrics_names)\n",
        "print(\"Loss: \", round(scoreMLP_freeze[0],3))\n",
        "print(\"Accuracy for neural network: \", round(scoreMLP_freeze[1],3))"
      ],
      "metadata": {
        "id": "baQTP2Rk_IOJ",
        "colab": {
          "base_uri": "https://localhost:8080/"
        },
        "outputId": "03c6c79e-c72d-4132-8e74-aa40fa29e2de"
      },
      "execution_count": null,
      "outputs": [
        {
          "output_type": "stream",
          "name": "stdout",
          "text": [
            "4/4 [==============================] - 2s 39ms/step - loss: 0.5635 - accuracy: 0.8100\n",
            "['loss', 'accuracy']\n",
            "Loss:  0.564\n",
            "Accuracy for neural network:  0.81\n"
          ]
        }
      ]
    },
    {
      "cell_type": "code",
      "source": [
        "#Comparação entre as redes neurais\n",
        "if (scoreMLP[1]*2 - scoreMLP[0])/3 > (scoreMLP_freeze[1]*2 - scoreMLP_freeze[0])/3: # É necessário subtrair o loss, pois o loss é uma medida inversamente proporcional, quanto menor, melhor.\n",
        "  print('Best model: Basic Neural Network')\n",
        "  print(f'Accuracy score: {round(scoreMLP[1],3)}')\n",
        "  print(f'Loss score: {round(scoreMLP[0],3)}')\n",
        "  print(f'Accuracy diference between Frozen Deep Learning model: {100*(scoreMLP[1] - scoreMLP_freeze[1]):.02f}%', )\n",
        "  print(f'Loss diference between Frozen Deep Learning model: {abs(100*(scoreMLP[0] - scoreMLP_freeze[0])):.02f}%', )\n",
        "else:\n",
        "  print('Best model: Last 10 frozen layers Neural Network')\n",
        "  print(f'Accuracy score: {round(scoreMLP_freeze[1],3)}')\n",
        "  print(f'Loss score: {round(scoreMLP_freeze[0],3)}')\n",
        "  print(f'Accuracy diference between Basic Deep Learning model: {100*(scoreMLP_freeze[1] - scoreMLP[1]):.02f}%', )\n",
        "  print(f'Loss diference between Basic Deep Learning model: {abs(100*(scoreMLP_freeze[0] - scoreMLP[0])):.02f}%', )"
      ],
      "metadata": {
        "colab": {
          "base_uri": "https://localhost:8080/"
        },
        "id": "8r_3eUrFYxwd",
        "outputId": "a28e49cb-e9b4-40fb-c772-2b5f8e3798fa"
      },
      "execution_count": null,
      "outputs": [
        {
          "output_type": "stream",
          "name": "stdout",
          "text": [
            "Best model: Basic Neural Network\n",
            "Accuracy score: 0.86\n",
            "Loss score: 0.553\n",
            "Accuracy diference between Frozen Deep Learning model: 5.00%\n",
            "Loss diference between Frozen Deep Learning model: 1.05%\n"
          ]
        }
      ]
    },
    {
      "cell_type": "markdown",
      "source": [
        "# Questão 3) Considerando a mesma rede pré-treinada do primeiro exercício, faça fine-tuning com Data Augmentation. Explore essas técnicas e verifique se sua utilização melhora a performance do modelo. Não fique restrito às técnicas de exemplo. Estude as demais funções existentes no pacote ImageGenerator. (2,5 pontos)"
      ],
      "metadata": {
        "id": "u7TYZq1iZpQq"
      }
    },
    {
      "cell_type": "code",
      "source": [
        "def kerasAugmentation(X, Y, augmentation, qtdade):\n",
        "  print(\"\\tCreating data augmentation usign Keras ...\")\n",
        "  \n",
        "  images = []\n",
        "  labels = []\n",
        "  for augmentation in augmentation:\n",
        "  # determinando o gerador das imagens a ser utilizado e sua configuração\n",
        "    if (augmentation == \"Rotation\"):\n",
        "      datagen = ImageDataGenerator(rotation_range=90)\n",
        "    elif (augmentation == \"Zoom\"):\n",
        "      datagen = ImageDataGenerator(brightness_range = [0.2, 0.4])\n",
        "    elif (augmentation == \"Brightness\"):\n",
        "      datagen = ImageDataGenerator(zoom_range = [0.2, 0.4])\n",
        "    elif (augmentation == \"Flip\"):\n",
        "      datagen = ImageDataGenerator(horizontal_flip=True, vertical_flip=True)\n",
        "      \n",
        "\n",
        "\n",
        "    for i in range(0, X.shape[0]):\n",
        "      it = datagen.flow(np.expand_dims(X[i], 0), batch_size=1) # passamos 1 imagem por vez\n",
        "      for j in range(0, qtdade):\n",
        "        batch = it.next() # selecionamos a próxima imagem gerada\n",
        "        images.append(batch[0].astype(np.uint8)) # convertemos esta imagem na codificação adequada para o nosso conjunto de dados\n",
        "        labels.append(Y[i])\n",
        "      \n",
        "  images = np.array(images)\n",
        "  labels = np.array(labels)\n",
        "  return images, labels\n",
        "\n",
        "# chamada da função; após, concatenamos os dados gerados aos dados originais\n",
        "images_train, labels_train = kerasAugmentation(Xtrain, Ytrain, [\"Rotation\",\"Flip\",\"Zoom\",\"Brightness\"], 1)\n",
        "Xtrain = np.concatenate((Xtrain, images_train), axis=0)\n",
        "Ytrain = np.concatenate((Ytrain, labels_train), axis=0)\n",
        "\n",
        "print('\\tTraining set shape: ', Xtrain.shape)\n",
        "print('\\tTraining label shape: ', Ytrain.shape)\n",
        "\n",
        "images_test, labels_test = kerasAugmentation(Xtest, Ytest, [\"Rotation\",\"Shift\",\"Zoom\",\"Brightness\"], 1)\n",
        "Xtest = np.concatenate((Xtest, images_test), axis=0)\n",
        "Ytest = np.concatenate((Ytest, labels_test), axis=0)\n",
        "\n",
        "print('\\tTesting set shape: ', Xtest.shape)\n",
        "print('\\tTesting label shape: ', Ytest.shape)"
      ],
      "metadata": {
        "colab": {
          "base_uri": "https://localhost:8080/"
        },
        "id": "psCDCi17VP-D",
        "outputId": "ec101629-f9d3-409d-bccd-fc48d67c6013"
      },
      "execution_count": null,
      "outputs": [
        {
          "output_type": "stream",
          "name": "stdout",
          "text": [
            "\tCreating data augmentation usign Keras ...\n",
            "\tTraining set shape:  (2000, 224, 224, 3)\n",
            "\tTraining label shape:  (2000, 5)\n",
            "\tCreating data augmentation usign Keras ...\n",
            "\tTesting set shape:  (500, 224, 224, 3)\n",
            "\tTesting label shape:  (500, 5)\n"
          ]
        }
      ]
    },
    {
      "cell_type": "code",
      "source": [
        "model.compile(optimizer= keras.optimizers.Adam(0.0001), loss='categorical_crossentropy' ,metrics=[keras.metrics.CategoricalAccuracy(name = 'accuracy')])\n",
        "history_aug = model.fit(Xtrain, Ytrain, batch_size=10, epochs=15)"
      ],
      "metadata": {
        "colab": {
          "base_uri": "https://localhost:8080/"
        },
        "id": "Lf7nDokdAHVJ",
        "outputId": "40cb3342-c833-44ab-fb50-7dda414524d4"
      },
      "execution_count": null,
      "outputs": [
        {
          "output_type": "stream",
          "name": "stdout",
          "text": [
            "Epoch 1/15\n",
            "200/200 [==============================] - 22s 69ms/step - loss: 1.1015 - accuracy: 0.5720\n",
            "Epoch 2/15\n",
            "200/200 [==============================] - 14s 69ms/step - loss: 0.7789 - accuracy: 0.6970\n",
            "Epoch 3/15\n",
            "200/200 [==============================] - 14s 69ms/step - loss: 0.5893 - accuracy: 0.7755\n",
            "Epoch 4/15\n",
            "200/200 [==============================] - 14s 70ms/step - loss: 0.4864 - accuracy: 0.8240\n",
            "Epoch 5/15\n",
            "200/200 [==============================] - 14s 70ms/step - loss: 0.4423 - accuracy: 0.8295\n",
            "Epoch 6/15\n",
            "200/200 [==============================] - 14s 68ms/step - loss: 0.3701 - accuracy: 0.8635\n",
            "Epoch 7/15\n",
            "200/200 [==============================] - 14s 68ms/step - loss: 0.2874 - accuracy: 0.8925\n",
            "Epoch 8/15\n",
            "200/200 [==============================] - 14s 68ms/step - loss: 0.2985 - accuracy: 0.8930\n",
            "Epoch 9/15\n",
            "200/200 [==============================] - 14s 68ms/step - loss: 0.3065 - accuracy: 0.8915\n",
            "Epoch 10/15\n",
            "200/200 [==============================] - 14s 68ms/step - loss: 0.2735 - accuracy: 0.9050\n",
            "Epoch 11/15\n",
            "200/200 [==============================] - 14s 68ms/step - loss: 0.2378 - accuracy: 0.9175\n",
            "Epoch 12/15\n",
            "200/200 [==============================] - 14s 69ms/step - loss: 0.1769 - accuracy: 0.9365\n",
            "Epoch 13/15\n",
            "200/200 [==============================] - 14s 68ms/step - loss: 0.2148 - accuracy: 0.9255\n",
            "Epoch 14/15\n",
            "200/200 [==============================] - 14s 68ms/step - loss: 0.1922 - accuracy: 0.9310\n",
            "Epoch 15/15\n",
            "200/200 [==============================] - 14s 68ms/step - loss: 0.2324 - accuracy: 0.9160\n"
          ]
        }
      ]
    },
    {
      "cell_type": "code",
      "source": [
        "scoreMLP_aug = model.evaluate(Xtest, Ytest)\n",
        "print(model.metrics_names)\n",
        "print(\"Loss: \", round(scoreMLP_aug[0],3))\n",
        "print(\"Accuracy for neural network: \", round(scoreMLP_aug[1],3))"
      ],
      "metadata": {
        "colab": {
          "base_uri": "https://localhost:8080/"
        },
        "id": "193mHSNtKCxa",
        "outputId": "03c3a264-633a-4a71-b4a8-28ed2553fda1"
      },
      "execution_count": null,
      "outputs": [
        {
          "output_type": "stream",
          "name": "stdout",
          "text": [
            "16/16 [==============================] - 2s 53ms/step - loss: 1.1328 - accuracy: 0.6820\n",
            "['loss', 'accuracy']\n",
            "Loss:  1.133\n",
            "Accuracy for neural network:  0.682\n"
          ]
        }
      ]
    },
    {
      "cell_type": "code",
      "source": [
        "#Comparação entre as redes neurais\n",
        "if (scoreMLP[1]*2 - scoreMLP[0])/3 > (scoreMLP_aug[1]*2 - scoreMLP_aug[0])/3:\n",
        "  print('Best model: Basic Neural Network')\n",
        "  print(f'Accuracy score: {round(scoreMLP[1],3)}')\n",
        "  print(f'Loss score: {round(scoreMLP[0],3)}')\n",
        "  print(f'Accuracy diference between Frozen Deep Learning model: {100*(scoreMLP[1] - scoreMLP_aug[1]):.02f}%', )\n",
        "  print(f'Loss diference between Frozen Deep Learning model: {abs(100*(scoreMLP[0] - scoreMLP_aug[0])):.02f}%', )\n",
        "elif (scoreMLP[1]*2 - scoreMLP[0])/3 == (scoreMLP_aug[1]*2 - scoreMLP_aug[0])/3:\n",
        "  print('Same results')\n",
        "  print(f'Accuracy score: {round(scoreMLP[1],3)}')\n",
        "  print(f'Loss score: {round(scoreMLP[0],3)}')\n",
        "else:\n",
        "  print('Best model: Last 10 frozen layers Neural Network')\n",
        "  print(f'Accuracy score: {round(scoreMLP_aug[1],3)}')\n",
        "  print(f'Loss score: {round(scoreMLP_aug[0],3)}')\n",
        "  print(f'Accuracy diference between Basic Deep Learning model: {100*(scoreMLP_aug[1] - scoreMLP[1]):.02f}%', )\n",
        "  print(f'Loss diference between Basic Deep Learning model: {abs(100*(scoreMLP_aug[0] - scoreMLP[0])):.02f}%', )"
      ],
      "metadata": {
        "colab": {
          "base_uri": "https://localhost:8080/"
        },
        "id": "6usRcFpqaQbd",
        "outputId": "111c8dd0-3b01-4b9b-8b1b-8fd9422c351c"
      },
      "execution_count": null,
      "outputs": [
        {
          "output_type": "stream",
          "name": "stdout",
          "text": [
            "Best model: Basic Neural Network\n",
            "Accuracy score: 0.86\n",
            "Loss score: 0.553\n",
            "Accuracy diference between Frozen Deep Learning model: 17.80%\n",
            "Loss diference between Frozen Deep Learning model: 57.99%\n"
          ]
        }
      ]
    },
    {
      "cell_type": "code",
      "source": [
        "model_freeze.compile(optimizer= keras.optimizers.Adam(0.0001), loss='categorical_crossentropy' ,metrics=[keras.metrics.CategoricalAccuracy(name = 'accuracy')])\n",
        "history_freeze_aug = model_freeze.fit(Xtrain, Ytrain, batch_size=10, epochs=15)"
      ],
      "metadata": {
        "colab": {
          "base_uri": "https://localhost:8080/"
        },
        "id": "cDQCkEop-IPv",
        "outputId": "9c16e7f5-a494-4d7d-d15c-0c8dd4a40dde"
      },
      "execution_count": null,
      "outputs": [
        {
          "output_type": "stream",
          "name": "stdout",
          "text": [
            "Epoch 1/15\n",
            "200/200 [==============================] - 10s 26ms/step - loss: 1.5088 - accuracy: 0.4275\n",
            "Epoch 2/15\n",
            "200/200 [==============================] - 5s 26ms/step - loss: 1.2468 - accuracy: 0.5255\n",
            "Epoch 3/15\n",
            "200/200 [==============================] - 5s 26ms/step - loss: 1.1540 - accuracy: 0.5630\n",
            "Epoch 4/15\n",
            "200/200 [==============================] - 5s 26ms/step - loss: 1.0708 - accuracy: 0.6045\n",
            "Epoch 5/15\n",
            "200/200 [==============================] - 5s 26ms/step - loss: 0.9872 - accuracy: 0.6415\n",
            "Epoch 6/15\n",
            "200/200 [==============================] - 5s 26ms/step - loss: 0.9252 - accuracy: 0.6685\n",
            "Epoch 7/15\n",
            "200/200 [==============================] - 5s 26ms/step - loss: 0.8580 - accuracy: 0.6895\n",
            "Epoch 8/15\n",
            "200/200 [==============================] - 5s 26ms/step - loss: 0.7710 - accuracy: 0.7115\n",
            "Epoch 9/15\n",
            "200/200 [==============================] - 5s 26ms/step - loss: 0.7423 - accuracy: 0.7390\n",
            "Epoch 10/15\n",
            "200/200 [==============================] - 5s 26ms/step - loss: 0.7019 - accuracy: 0.7395\n",
            "Epoch 11/15\n",
            "200/200 [==============================] - 5s 26ms/step - loss: 0.6492 - accuracy: 0.7635\n",
            "Epoch 12/15\n",
            "200/200 [==============================] - 5s 26ms/step - loss: 0.5921 - accuracy: 0.7860\n",
            "Epoch 13/15\n",
            "200/200 [==============================] - 5s 26ms/step - loss: 0.5718 - accuracy: 0.7990\n",
            "Epoch 14/15\n",
            "200/200 [==============================] - 5s 26ms/step - loss: 0.5085 - accuracy: 0.8200\n",
            "Epoch 15/15\n",
            "200/200 [==============================] - 5s 26ms/step - loss: 0.4775 - accuracy: 0.8395\n"
          ]
        }
      ]
    },
    {
      "cell_type": "code",
      "source": [
        "scoreMLP_freeze_aug = model_freeze.evaluate(Xtest, Ytest)\n",
        "print(model_freeze.metrics_names)\n",
        "print(\"Loss: \", round(scoreMLP_freeze_aug[0],3))\n",
        "print(\"Accuracy for neural network: \", round(scoreMLP_freeze_aug[1],3))"
      ],
      "metadata": {
        "colab": {
          "base_uri": "https://localhost:8080/"
        },
        "id": "yDmLCNW0KP0R",
        "outputId": "d6a434c0-a03d-46f7-fd57-c297c3286c34"
      },
      "execution_count": null,
      "outputs": [
        {
          "output_type": "stream",
          "name": "stdout",
          "text": [
            "16/16 [==============================] - 2s 53ms/step - loss: 0.9655 - accuracy: 0.6500\n",
            "['loss', 'accuracy']\n",
            "Loss:  0.965\n",
            "Accuracy for neural network:  0.65\n"
          ]
        }
      ]
    },
    {
      "cell_type": "code",
      "source": [
        "#Comparação entre as redes neurais\n",
        "if (scoreMLP_freeze[1]*2 - scoreMLP_freeze[0])/3 > (scoreMLP_freeze_aug[1]*2 - scoreMLP_freeze_aug[0])/3: \n",
        "  print('Best model: Last 10 layers freeze Neural Network')\n",
        "  print(f'Accuracy score: {round(scoreMLP_freeze[1],3)}')\n",
        "  print(f'Loss score: {round(scoreMLP_freeze[0],3)}')\n",
        "  print(f'Accuracy diference between Deep Learning models: {100*(scoreMLP_freeze[1] - scoreMLP_freeze_aug[1]):.02f}%', )\n",
        "  print(f'Loss diference between Deep Learning models: {abs(100*(scoreMLP_freeze[0] - scoreMLP_freeze_aug[0])):.02f}%', )\n",
        "elif (scoreMLP_freeze[1]*2 - scoreMLP_freeze[0])/3 == (scoreMLP_freeze_aug[1]*2 - scoreMLP_freeze_aug[0])/3:\n",
        "  print('Same results')\n",
        "  print(f'Accuracy score: {round(scoreMLP_freeze[1],3)}')\n",
        "  print(f'Loss score: {round(scoreMLP_freeze[0],3)}')\n",
        "else:\n",
        "  print('Best model: Last 10 frozen layers Neural Network with augmentation')\n",
        "  print(f'Accuracy score: {round(scoreMLP_freeze_aug[1],3)}')\n",
        "  print(f'Loss score: {round(scoreMLP_freeze_aug[0],3)}')\n",
        "  print(f'Accuracy diference between  Deep Learning models: {100*(scoreMLP_freeze_aug[1] - scoreMLP_freeze[1]):.02f}%', )\n",
        "  print(f'Loss diference between  Deep Learning models: {abs(100*(scoreMLP_freeze_aug[0] - scoreMLP_freeze[0])):.02f}%', )"
      ],
      "metadata": {
        "colab": {
          "base_uri": "https://localhost:8080/"
        },
        "id": "5D-P9piYb0Nz",
        "outputId": "13e00525-a760-431d-9b69-d67dc55fd1be"
      },
      "execution_count": null,
      "outputs": [
        {
          "output_type": "stream",
          "name": "stdout",
          "text": [
            "Best model: Last 10 layers freeze Neural Network\n",
            "Accuracy score: 0.81\n",
            "Loss score: 0.564\n",
            "Accuracy diference between Deep Learning models: 16.00%\n",
            "Loss diference between Deep Learning models: 40.20%\n"
          ]
        }
      ]
    },
    {
      "cell_type": "markdown",
      "source": [
        " # Questão 4) Interpretação dos resultados (2,5 pontos):"
      ],
      "metadata": {
        "id": "ukvq5sTPjnWG"
      }
    },
    {
      "cell_type": "markdown",
      "source": [
        "## a) Baseando-se nos experimetnos anteriores, indique a melhor solução para este conjunto de dados."
      ],
      "metadata": {
        "id": "NEOxL29prV5y"
      }
    },
    {
      "cell_type": "markdown",
      "source": [
        "> A melhor solução em termos de métricas de teste é a solução do modelo básico, pois apresentou a menor *loss* e a melhor acurácia, mas a pior em termos de custos computacionais;\n",
        "\n",
        "> A segunda melhor opção de teste foi o modelo básico com as camadas congeladas, mas teve um desempenho muito superior em relação a custos computacionais;\n",
        "\n",
        "> O data augmentation não obteve sucesso no teste, as métricas de teste não foram boas para nenhum dos dois data augmentations realizados. Em experimentos realizados anteriormente, aumentar o brilho e dar zoom pioram a qualidade do modelo;\n",
        "\n",
        "> Mesmo não obtendo sucesso, o data augmentation do modelo básico no obteve métricas boas no treinamento, mas o com augmentation e freeze obteve métricas ruins;\n",
        "\n",
        "> Mesmo obtendo métricas boas, o custo computacional adicional não compensa;\n",
        "\n",
        "\n",
        "> Em termos de métricas, podemos dizer que o modelo básico é o melhor sim em relação ao modelo congelado. Todavia, é possível analisar através de gráficos que o modelo congelado aprendeu bem melhor que o modelo que não é congelado.\n",
        "\n",
        "> Logo o modelo que será escolhido como o melhor modelo é o modelo com as camadas congeladas por conta de:\n",
        "\n",
        "\n",
        "\n",
        "1.   Muito ganho computacional;\n",
        "2.   Melhor aprendizado em cima do modelo básico, apresentando maior confiabilidade.\n",
        "\n",
        "\n"
      ],
      "metadata": {
        "id": "fQxhNT4mranh"
      }
    },
    {
      "cell_type": "markdown",
      "source": [
        "## b) Apresente gráficos e dados comparativos que justifiquem suas escolhas.\n"
      ],
      "metadata": {
        "id": "aF_Hw7MHjrLP"
      }
    },
    {
      "cell_type": "code",
      "source": [
        "plt.figure(figsize = (18,12))\n",
        "plt.plot(history.history[\"loss\"], label = 'Basic model')\n",
        "plt.plot(history_freeze.history[\"loss\"], label = 'Basic model with freeze')\n",
        "plt.plot(history_aug.history[\"loss\"], label = 'Basic model with Augmentation')\n",
        "plt.plot(history_freeze_aug.history[\"loss\"], label = 'Basic model with freeze and augmentation')\n",
        "plt.title(\"model training loss\")\n",
        "plt.ylabel(\"loss\")\n",
        "plt.xlabel(\"epoch\")\n",
        "plt.legend()\n",
        "plt.show()"
      ],
      "metadata": {
        "colab": {
          "base_uri": "https://localhost:8080/",
          "height": 730
        },
        "id": "rk-3abFS-Fpt",
        "outputId": "e69dacb7-3e0e-4d8d-85fa-3da08c6eee9e"
      },
      "execution_count": null,
      "outputs": [
        {
          "output_type": "display_data",
          "data": {
            "text/plain": [
              "<Figure size 1296x864 with 1 Axes>"
            ],
            "image/png": "[encoded data removed]"
          },
          "metadata": {
            "needs_background": "light"
          }
        }
      ]
    },
    {
      "cell_type": "code",
      "source": [
        "plt.figure(figsize = (18,12))\n",
        "plt.plot(history.history[\"accuracy\"], label = 'Basic model')\n",
        "plt.plot(history_freeze.history[\"accuracy\"], label = 'Basic model with freeze')\n",
        "plt.plot(history_aug.history[\"accuracy\"], label = 'Basic model with Augmentation')\n",
        "plt.plot(history_freeze_aug.history[\"accuracy\"], label = 'Basic model with freeze with Augmentation')\n",
        "plt.title(\"model training accuracy\")\n",
        "plt.ylabel(\"accuracy\")\n",
        "plt.xlabel(\"epoch\")\n",
        "plt.legend()\n",
        "plt.show()"
      ],
      "metadata": {
        "colab": {
          "base_uri": "https://localhost:8080/",
          "height": 730
        },
        "id": "HoAfLMtE-GyA",
        "outputId": "07f47ffd-962b-4a79-c0ec-afbe035aa16d"
      },
      "execution_count": null,
      "outputs": [
        {
          "output_type": "display_data",
          "data": {
            "text/plain": [
              "<Figure size 1296x864 with 1 Axes>"
            ],
            "image/png": "[encoded data removed]"
          },
          "metadata": {
            "needs_background": "light"
          }
        }
      ]
    },
    {
      "cell_type": "code",
      "source": [
        "plt.figure(figsize = (18,10))\n",
        "names = ['Basic model','Basic model with freeze','Basic model with augmentation','Basic model with freeze and augmentation']\n",
        "total = [scoreMLP[1], scoreMLP_freeze[1], scoreMLP_aug[1], scoreMLP_freeze_aug[1]]\n",
        "bars = plt.bar(names,total)\n",
        "plt.title(\"models test accuracy\")\n",
        "plt.ylabel(\"accuracy\")\n",
        "bars[0].set_color('r')\n",
        "bars[1].set_color('b')\n",
        "bars[2].set_color('g')\n",
        "bars[3].set_color('y')\n",
        "i = 1\n",
        "j = 0.01\n",
        "for i in range(len(total)):\n",
        "    plt.annotate(round(total[i],3), (i, total[i]+j), fontweight='bold', ha = 'center', color = 'k', fontsize = 15)\n",
        "plt.show()"
      ],
      "metadata": {
        "colab": {
          "base_uri": "https://localhost:8080/",
          "height": 607
        },
        "id": "qPkwW65SLNQM",
        "outputId": "cb0b17ef-31de-4662-975a-e300814da87a"
      },
      "execution_count": null,
      "outputs": [
        {
          "output_type": "display_data",
          "data": {
            "text/plain": [
              "<Figure size 1296x720 with 1 Axes>"
            ],
            "image/png": "[encoded data removed]"
          },
          "metadata": {
            "needs_background": "light"
          }
        }
      ]
    }
  ],
  "metadata": {
    "accelerator": "GPU",
    "colab": {
      "name": "Cópia de mod3proj4",
      "provenance": [],
      "collapsed_sections": []
    },
    "gpuClass": "standard",
    "kernelspec": {
      "display_name": "Python 3",
      "name": "python3"
    },
    "language_info": {
      "name": "python"
    }
  },
  "nbformat": 4,
  "nbformat_minor": 0
}